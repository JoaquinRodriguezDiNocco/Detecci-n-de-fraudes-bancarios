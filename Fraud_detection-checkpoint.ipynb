{
 "cells": [
  {
   "cell_type": "markdown",
   "id": "22eba7ba",
   "metadata": {},
   "source": [
    "Importación de las librerías"
   ]
  },
  {
   "cell_type": "code",
   "execution_count": 1,
   "id": "ef9f0e66",
   "metadata": {},
   "outputs": [],
   "source": [
    "import pandas as pd\n",
    "import numpy as np\n",
    "import matplotlib.pyplot as plt\n",
    "import seaborn as sns\n",
    "%matplotlib inline"
   ]
  },
  {
   "cell_type": "code",
   "execution_count": 2,
   "id": "b154d23e",
   "metadata": {},
   "outputs": [
    {
     "name": "stdout",
     "output_type": "stream",
     "text": [
      "<class 'pandas.core.frame.DataFrame'>\n",
      "RangeIndex: 6362620 entries, 0 to 6362619\n",
      "Data columns (total 11 columns):\n",
      " #   Column          Dtype  \n",
      "---  ------          -----  \n",
      " 0   step            int64  \n",
      " 1   type            object \n",
      " 2   amount          float64\n",
      " 3   nameOrig        object \n",
      " 4   oldbalanceOrg   float64\n",
      " 5   newbalanceOrig  float64\n",
      " 6   nameDest        object \n",
      " 7   oldbalanceDest  float64\n",
      " 8   newbalanceDest  float64\n",
      " 9   isFraud         int64  \n",
      " 10  isFlaggedFraud  int64  \n",
      "dtypes: float64(5), int64(3), object(3)\n",
      "memory usage: 534.0+ MB\n"
     ]
    }
   ],
   "source": [
    "data = pd.read_csv('C:/Users/HP/Downloads/Fraud_detection/Fraud.csv')\n",
    "data.info()"
   ]
  },
  {
   "cell_type": "code",
   "execution_count": 3,
   "id": "8f68013f",
   "metadata": {},
   "outputs": [
    {
     "data": {
      "text/html": [
       "<div>\n",
       "<style scoped>\n",
       "    .dataframe tbody tr th:only-of-type {\n",
       "        vertical-align: middle;\n",
       "    }\n",
       "\n",
       "    .dataframe tbody tr th {\n",
       "        vertical-align: top;\n",
       "    }\n",
       "\n",
       "    .dataframe thead th {\n",
       "        text-align: right;\n",
       "    }\n",
       "</style>\n",
       "<table border=\"1\" class=\"dataframe\">\n",
       "  <thead>\n",
       "    <tr style=\"text-align: right;\">\n",
       "      <th></th>\n",
       "      <th>step</th>\n",
       "      <th>type</th>\n",
       "      <th>amount</th>\n",
       "      <th>nameOrig</th>\n",
       "      <th>oldbalanceOrg</th>\n",
       "      <th>newbalanceOrig</th>\n",
       "      <th>nameDest</th>\n",
       "      <th>oldbalanceDest</th>\n",
       "      <th>newbalanceDest</th>\n",
       "      <th>isFraud</th>\n",
       "      <th>isFlaggedFraud</th>\n",
       "    </tr>\n",
       "  </thead>\n",
       "  <tbody>\n",
       "    <tr>\n",
       "      <th>0</th>\n",
       "      <td>1</td>\n",
       "      <td>PAYMENT</td>\n",
       "      <td>9839.64</td>\n",
       "      <td>C1231006815</td>\n",
       "      <td>170136.0</td>\n",
       "      <td>160296.36</td>\n",
       "      <td>M1979787155</td>\n",
       "      <td>0.0</td>\n",
       "      <td>0.0</td>\n",
       "      <td>0</td>\n",
       "      <td>0</td>\n",
       "    </tr>\n",
       "    <tr>\n",
       "      <th>1</th>\n",
       "      <td>1</td>\n",
       "      <td>PAYMENT</td>\n",
       "      <td>1864.28</td>\n",
       "      <td>C1666544295</td>\n",
       "      <td>21249.0</td>\n",
       "      <td>19384.72</td>\n",
       "      <td>M2044282225</td>\n",
       "      <td>0.0</td>\n",
       "      <td>0.0</td>\n",
       "      <td>0</td>\n",
       "      <td>0</td>\n",
       "    </tr>\n",
       "    <tr>\n",
       "      <th>2</th>\n",
       "      <td>1</td>\n",
       "      <td>TRANSFER</td>\n",
       "      <td>181.00</td>\n",
       "      <td>C1305486145</td>\n",
       "      <td>181.0</td>\n",
       "      <td>0.00</td>\n",
       "      <td>C553264065</td>\n",
       "      <td>0.0</td>\n",
       "      <td>0.0</td>\n",
       "      <td>1</td>\n",
       "      <td>0</td>\n",
       "    </tr>\n",
       "    <tr>\n",
       "      <th>3</th>\n",
       "      <td>1</td>\n",
       "      <td>CASH_OUT</td>\n",
       "      <td>181.00</td>\n",
       "      <td>C840083671</td>\n",
       "      <td>181.0</td>\n",
       "      <td>0.00</td>\n",
       "      <td>C38997010</td>\n",
       "      <td>21182.0</td>\n",
       "      <td>0.0</td>\n",
       "      <td>1</td>\n",
       "      <td>0</td>\n",
       "    </tr>\n",
       "    <tr>\n",
       "      <th>4</th>\n",
       "      <td>1</td>\n",
       "      <td>PAYMENT</td>\n",
       "      <td>11668.14</td>\n",
       "      <td>C2048537720</td>\n",
       "      <td>41554.0</td>\n",
       "      <td>29885.86</td>\n",
       "      <td>M1230701703</td>\n",
       "      <td>0.0</td>\n",
       "      <td>0.0</td>\n",
       "      <td>0</td>\n",
       "      <td>0</td>\n",
       "    </tr>\n",
       "  </tbody>\n",
       "</table>\n",
       "</div>"
      ],
      "text/plain": [
       "   step      type    amount     nameOrig  oldbalanceOrg  newbalanceOrig  \\\n",
       "0     1   PAYMENT   9839.64  C1231006815       170136.0       160296.36   \n",
       "1     1   PAYMENT   1864.28  C1666544295        21249.0        19384.72   \n",
       "2     1  TRANSFER    181.00  C1305486145          181.0            0.00   \n",
       "3     1  CASH_OUT    181.00   C840083671          181.0            0.00   \n",
       "4     1   PAYMENT  11668.14  C2048537720        41554.0        29885.86   \n",
       "\n",
       "      nameDest  oldbalanceDest  newbalanceDest  isFraud  isFlaggedFraud  \n",
       "0  M1979787155             0.0             0.0        0               0  \n",
       "1  M2044282225             0.0             0.0        0               0  \n",
       "2   C553264065             0.0             0.0        1               0  \n",
       "3    C38997010         21182.0             0.0        1               0  \n",
       "4  M1230701703             0.0             0.0        0               0  "
      ]
     },
     "execution_count": 3,
     "metadata": {},
     "output_type": "execute_result"
    }
   ],
   "source": [
    "data.head()"
   ]
  },
  {
   "cell_type": "markdown",
   "id": "0d15cc27",
   "metadata": {},
   "source": [
    "# Limpieza de datos"
   ]
  },
  {
   "cell_type": "markdown",
   "id": "a183f6ec",
   "metadata": {},
   "source": [
    "Veo si hay valores perdidos en la base de datos."
   ]
  },
  {
   "cell_type": "code",
   "execution_count": 4,
   "id": "b90f2eca",
   "metadata": {},
   "outputs": [
    {
     "data": {
      "text/plain": [
       "step              0\n",
       "type              0\n",
       "amount            0\n",
       "nameOrig          0\n",
       "oldbalanceOrg     0\n",
       "newbalanceOrig    0\n",
       "nameDest          0\n",
       "oldbalanceDest    0\n",
       "newbalanceDest    0\n",
       "isFraud           0\n",
       "isFlaggedFraud    0\n",
       "dtype: int64"
      ]
     },
     "execution_count": 4,
     "metadata": {},
     "output_type": "execute_result"
    }
   ],
   "source": [
    "data.isnull().sum()"
   ]
  },
  {
   "cell_type": "markdown",
   "id": "d660543f",
   "metadata": {},
   "source": [
    "Veo si hay registros duplicados."
   ]
  },
  {
   "cell_type": "code",
   "execution_count": 5,
   "id": "981866d9",
   "metadata": {},
   "outputs": [
    {
     "data": {
      "text/plain": [
       "0"
      ]
     },
     "execution_count": 5,
     "metadata": {},
     "output_type": "execute_result"
    }
   ],
   "source": [
    "data.duplicated().sum()"
   ]
  },
  {
   "cell_type": "markdown",
   "id": "022cd10d",
   "metadata": {},
   "source": [
    "Inspección del tipo de cliente que comienza la transacción y tipo del cliente destinatario de la transacción, el tipo de cliente puede ser\n",
    "C = 'customer' o M= 'merchant'.\n",
    "Nueva columna para identificar más rápido al tipo de cliente."
   ]
  },
  {
   "cell_type": "code",
   "execution_count": 6,
   "id": "fa58d6b3",
   "metadata": {},
   "outputs": [
    {
     "data": {
      "text/html": [
       "<div>\n",
       "<style scoped>\n",
       "    .dataframe tbody tr th:only-of-type {\n",
       "        vertical-align: middle;\n",
       "    }\n",
       "\n",
       "    .dataframe tbody tr th {\n",
       "        vertical-align: top;\n",
       "    }\n",
       "\n",
       "    .dataframe thead th {\n",
       "        text-align: right;\n",
       "    }\n",
       "</style>\n",
       "<table border=\"1\" class=\"dataframe\">\n",
       "  <thead>\n",
       "    <tr style=\"text-align: right;\">\n",
       "      <th></th>\n",
       "      <th>step</th>\n",
       "      <th>type</th>\n",
       "      <th>amount</th>\n",
       "      <th>nameOrig</th>\n",
       "      <th>oldbalanceOrg</th>\n",
       "      <th>newbalanceOrig</th>\n",
       "      <th>nameDest</th>\n",
       "      <th>oldbalanceDest</th>\n",
       "      <th>newbalanceDest</th>\n",
       "      <th>isFraud</th>\n",
       "      <th>isFlaggedFraud</th>\n",
       "      <th>Type_Customer_OA</th>\n",
       "      <th>Type_Customer_DA</th>\n",
       "    </tr>\n",
       "  </thead>\n",
       "  <tbody>\n",
       "    <tr>\n",
       "      <th>0</th>\n",
       "      <td>1</td>\n",
       "      <td>PAYMENT</td>\n",
       "      <td>9839.64</td>\n",
       "      <td>C1231006815</td>\n",
       "      <td>170136.0</td>\n",
       "      <td>160296.36</td>\n",
       "      <td>M1979787155</td>\n",
       "      <td>0.0</td>\n",
       "      <td>0.0</td>\n",
       "      <td>0</td>\n",
       "      <td>0</td>\n",
       "      <td>C</td>\n",
       "      <td>M</td>\n",
       "    </tr>\n",
       "    <tr>\n",
       "      <th>1</th>\n",
       "      <td>1</td>\n",
       "      <td>PAYMENT</td>\n",
       "      <td>1864.28</td>\n",
       "      <td>C1666544295</td>\n",
       "      <td>21249.0</td>\n",
       "      <td>19384.72</td>\n",
       "      <td>M2044282225</td>\n",
       "      <td>0.0</td>\n",
       "      <td>0.0</td>\n",
       "      <td>0</td>\n",
       "      <td>0</td>\n",
       "      <td>C</td>\n",
       "      <td>M</td>\n",
       "    </tr>\n",
       "    <tr>\n",
       "      <th>2</th>\n",
       "      <td>1</td>\n",
       "      <td>TRANSFER</td>\n",
       "      <td>181.00</td>\n",
       "      <td>C1305486145</td>\n",
       "      <td>181.0</td>\n",
       "      <td>0.00</td>\n",
       "      <td>C553264065</td>\n",
       "      <td>0.0</td>\n",
       "      <td>0.0</td>\n",
       "      <td>1</td>\n",
       "      <td>0</td>\n",
       "      <td>C</td>\n",
       "      <td>C</td>\n",
       "    </tr>\n",
       "    <tr>\n",
       "      <th>3</th>\n",
       "      <td>1</td>\n",
       "      <td>CASH_OUT</td>\n",
       "      <td>181.00</td>\n",
       "      <td>C840083671</td>\n",
       "      <td>181.0</td>\n",
       "      <td>0.00</td>\n",
       "      <td>C38997010</td>\n",
       "      <td>21182.0</td>\n",
       "      <td>0.0</td>\n",
       "      <td>1</td>\n",
       "      <td>0</td>\n",
       "      <td>C</td>\n",
       "      <td>C</td>\n",
       "    </tr>\n",
       "    <tr>\n",
       "      <th>4</th>\n",
       "      <td>1</td>\n",
       "      <td>PAYMENT</td>\n",
       "      <td>11668.14</td>\n",
       "      <td>C2048537720</td>\n",
       "      <td>41554.0</td>\n",
       "      <td>29885.86</td>\n",
       "      <td>M1230701703</td>\n",
       "      <td>0.0</td>\n",
       "      <td>0.0</td>\n",
       "      <td>0</td>\n",
       "      <td>0</td>\n",
       "      <td>C</td>\n",
       "      <td>M</td>\n",
       "    </tr>\n",
       "  </tbody>\n",
       "</table>\n",
       "</div>"
      ],
      "text/plain": [
       "   step      type    amount     nameOrig  oldbalanceOrg  newbalanceOrig  \\\n",
       "0     1   PAYMENT   9839.64  C1231006815       170136.0       160296.36   \n",
       "1     1   PAYMENT   1864.28  C1666544295        21249.0        19384.72   \n",
       "2     1  TRANSFER    181.00  C1305486145          181.0            0.00   \n",
       "3     1  CASH_OUT    181.00   C840083671          181.0            0.00   \n",
       "4     1   PAYMENT  11668.14  C2048537720        41554.0        29885.86   \n",
       "\n",
       "      nameDest  oldbalanceDest  newbalanceDest  isFraud  isFlaggedFraud  \\\n",
       "0  M1979787155             0.0             0.0        0               0   \n",
       "1  M2044282225             0.0             0.0        0               0   \n",
       "2   C553264065             0.0             0.0        1               0   \n",
       "3    C38997010         21182.0             0.0        1               0   \n",
       "4  M1230701703             0.0             0.0        0               0   \n",
       "\n",
       "  Type_Customer_OA Type_Customer_DA  \n",
       "0                C                M  \n",
       "1                C                M  \n",
       "2                C                C  \n",
       "3                C                C  \n",
       "4                C                M  "
      ]
     },
     "execution_count": 6,
     "metadata": {},
     "output_type": "execute_result"
    }
   ],
   "source": [
    "data['Type_Customer_OA']= data['nameOrig'].str[0]\n",
    "data['Type_Customer_DA']= data['nameDest'].str[0]\n",
    "data.head()"
   ]
  },
  {
   "cell_type": "code",
   "execution_count": 7,
   "id": "30782d9b",
   "metadata": {},
   "outputs": [
    {
     "data": {
      "text/plain": [
       "array(['C'], dtype=object)"
      ]
     },
     "execution_count": 7,
     "metadata": {},
     "output_type": "execute_result"
    }
   ],
   "source": [
    "data.Type_Customer_OA.unique()"
   ]
  },
  {
   "cell_type": "code",
   "execution_count": 8,
   "id": "8bf17df0",
   "metadata": {},
   "outputs": [
    {
     "data": {
      "text/plain": [
       "array(['M', 'C'], dtype=object)"
      ]
     },
     "execution_count": 8,
     "metadata": {},
     "output_type": "execute_result"
    }
   ],
   "source": [
    "data.Type_Customer_DA.unique()"
   ]
  },
  {
   "cell_type": "code",
   "execution_count": 9,
   "id": "03ad0b44",
   "metadata": {},
   "outputs": [
    {
     "data": {
      "text/plain": [
       "2151495"
      ]
     },
     "execution_count": 9,
     "metadata": {},
     "output_type": "execute_result"
    }
   ],
   "source": [
    "data['Type_Customer_DA'][data.Type_Customer_DA == 'M'].count()"
   ]
  },
  {
   "cell_type": "code",
   "execution_count": 10,
   "id": "bc97011d",
   "metadata": {},
   "outputs": [
    {
     "data": {
      "text/plain": [
       "4211125"
      ]
     },
     "execution_count": 10,
     "metadata": {},
     "output_type": "execute_result"
    }
   ],
   "source": [
    "data['Type_Customer_DA'][data.Type_Customer_DA == 'C'].count()"
   ]
  },
  {
   "cell_type": "code",
   "execution_count": 11,
   "id": "6782b37e",
   "metadata": {},
   "outputs": [],
   "source": [
    "# Se puede observar que los clientes tipo M no comienzan las transacciones, los destinatarios pueden ser clientes de tipo C o M."
   ]
  },
  {
   "cell_type": "markdown",
   "id": "e6769243",
   "metadata": {},
   "source": [
    "Detección de outliers"
   ]
  },
  {
   "cell_type": "code",
   "execution_count": 12,
   "id": "26448fa7",
   "metadata": {},
   "outputs": [
    {
     "data": {
      "image/png": "[encoded data removed]",
      "text/plain": [
       "<Figure size 864x432 with 1 Axes>"
      ]
     },
     "metadata": {
      "needs_background": "light"
     },
     "output_type": "display_data"
    }
   ],
   "source": [
    "plt.figure(figsize=(12,6))\n",
    "plt.boxplot(data.amount.sample(1000), vert=False)\n",
    "plt.show()"
   ]
  },
  {
   "cell_type": "code",
   "execution_count": 13,
   "id": "54b85718",
   "metadata": {},
   "outputs": [
    {
     "name": "stdout",
     "output_type": "stream",
     "text": [
      "Primer cuartil 13389.57\n",
      "Tercer cuartil 208721.4775\n",
      "Rango intercuartilico 195331.9075\n",
      "Mediana 74871.94\n",
      "Valor mínimo 0.0\n",
      "Valor máximo 92445516.64\n"
     ]
    }
   ],
   "source": [
    "Q1 = data['amount'].quantile(0.25)\n",
    "print('Primer cuartil', Q1)\n",
    "Q3 = data['amount'].quantile(0.75)\n",
    "print('Tercer cuartil', Q3)\n",
    "IQR = Q3-Q1\n",
    "print('Rango intercuartilico', IQR)\n",
    "\n",
    "mediana = data['amount'].median()\n",
    "print('Mediana', mediana)\n",
    "valor_mínimo = data['amount'].min()\n",
    "print('Valor mínimo', valor_mínimo)\n",
    "valor_máximo = data['amount'].max()\n",
    "print('Valor máximo', valor_máximo)"
   ]
  },
  {
   "cell_type": "code",
   "execution_count": 14,
   "id": "728a9d3e",
   "metadata": {},
   "outputs": [
    {
     "name": "stdout",
     "output_type": "stream",
     "text": [
      "BI_calculado \n",
      " -279608.29125\n",
      "BS_calculado \n",
      " 501719.33875\n"
     ]
    }
   ],
   "source": [
    "BI_calculado = (Q1-1.5*IQR)\n",
    "print('BI_calculado \\n', BI_calculado)\n",
    "BS_calculado = (Q3+1.5*IQR)\n",
    "print('BS_calculado \\n', BS_calculado)"
   ]
  },
  {
   "cell_type": "code",
   "execution_count": 15,
   "id": "b5c6b92a",
   "metadata": {},
   "outputs": [
    {
     "name": "stdout",
     "output_type": "stream",
     "text": [
      "\n",
      " Ubicación de outliers \n",
      " 0          False\n",
      "1          False\n",
      "2          False\n",
      "3          False\n",
      "4          False\n",
      "           ...  \n",
      "6362615    False\n",
      "6362616     True\n",
      "6362617     True\n",
      "6362618     True\n",
      "6362619     True\n",
      "Name: amount, Length: 6362620, dtype: bool\n"
     ]
    }
   ],
   "source": [
    "ubicación_outliers = (data['amount']< BI_calculado) | (data['amount']>BS_calculado)\n",
    "print('\\n Ubicación de outliers \\n', ubicación_outliers)"
   ]
  },
  {
   "cell_type": "code",
   "execution_count": 16,
   "id": "2cd0147c",
   "metadata": {
    "scrolled": true
   },
   "outputs": [
    {
     "name": "stdout",
     "output_type": "stream",
     "text": [
      "\n",
      " Lista de outliers \n",
      "          step      type      amount     nameOrig  oldbalanceOrg  \\\n",
      "85          1  TRANSFER  1505626.01   C926859124           0.00   \n",
      "86          1  TRANSFER   554026.99  C1603696865           0.00   \n",
      "88          1  TRANSFER   761507.39   C412788346           0.00   \n",
      "89          1  TRANSFER  1429051.47  C1520267010           0.00   \n",
      "93          1  TRANSFER   583848.46  C1839168128           0.00   \n",
      "...       ...       ...         ...          ...            ...   \n",
      "6362613   743  CASH_OUT  1258818.82  C1436118706     1258818.82   \n",
      "6362616   743  TRANSFER  6311409.28  C1529008245     6311409.28   \n",
      "6362617   743  CASH_OUT  6311409.28  C1162922333     6311409.28   \n",
      "6362618   743  TRANSFER   850002.52  C1685995037      850002.52   \n",
      "6362619   743  CASH_OUT   850002.52  C1280323807      850002.52   \n",
      "\n",
      "         newbalanceOrig     nameDest  oldbalanceDest  newbalanceDest  isFraud  \\\n",
      "85                  0.0   C665576141        29031.00      5515763.34        0   \n",
      "86                  0.0   C766572210       579285.56            0.00        0   \n",
      "88                  0.0  C1590550415      1280036.23     19169204.93        0   \n",
      "89                  0.0  C1590550415      2041543.62     19169204.93        0   \n",
      "93                  0.0  C1286084959       667778.00      2107778.11        0   \n",
      "...                 ...          ...             ...             ...      ...   \n",
      "6362613             0.0  C1240760502       503464.50      1762283.33        1   \n",
      "6362616             0.0  C1881841831            0.00            0.00        1   \n",
      "6362617             0.0  C1365125890        68488.84      6379898.11        1   \n",
      "6362618             0.0  C2080388513            0.00            0.00        1   \n",
      "6362619             0.0   C873221189      6510099.11      7360101.63        1   \n",
      "\n",
      "         isFlaggedFraud Type_Customer_OA Type_Customer_DA  \n",
      "85                    0                C                C  \n",
      "86                    0                C                C  \n",
      "88                    0                C                C  \n",
      "89                    0                C                C  \n",
      "93                    0                C                C  \n",
      "...                 ...              ...              ...  \n",
      "6362613               0                C                C  \n",
      "6362616               0                C                C  \n",
      "6362617               0                C                C  \n",
      "6362618               0                C                C  \n",
      "6362619               0                C                C  \n",
      "\n",
      "[338078 rows x 13 columns]\n"
     ]
    }
   ],
   "source": [
    "outliers = data[ubicación_outliers]\n",
    "print('\\n Lista de outliers \\n', outliers)"
   ]
  },
  {
   "cell_type": "code",
   "execution_count": 17,
   "id": "8e87dfcc",
   "metadata": {},
   "outputs": [],
   "source": [
    "# La base de datos tiene 338078 outliers"
   ]
  },
  {
   "cell_type": "markdown",
   "id": "377f338f",
   "metadata": {},
   "source": [
    "# Visualización de los datos"
   ]
  },
  {
   "cell_type": "code",
   "execution_count": 18,
   "id": "da19794a",
   "metadata": {},
   "outputs": [
    {
     "data": {
      "image/png": "[encoded data removed]",
      "text/plain": [
       "<Figure size 432x288 with 1 Axes>"
      ]
     },
     "metadata": {
      "needs_background": "light"
     },
     "output_type": "display_data"
    }
   ],
   "source": [
    "plt.title('Número de clientes tipo C o M destinatarios de las transacciones en millones', fontdict={'fontsize':16})\n",
    "plt.hist(data['Type_Customer_DA'], edgecolor= 'black', linewidth=1)\n",
    "plt.show()"
   ]
  },
  {
   "cell_type": "code",
   "execution_count": 19,
   "id": "e6e14f99",
   "metadata": {},
   "outputs": [
    {
     "data": {
      "image/png": "[encoded data removed]",
      "text/plain": [
       "<Figure size 432x288 with 1 Axes>"
      ]
     },
     "metadata": {},
     "output_type": "display_data"
    }
   ],
   "source": [
    "data['Type_Customer_DA'].value_counts().plot(kind='pie', autopct='%.2f%%', title='Porcentaje de clientes tipo C o M destinatarios de una transacción', ylabel='')\n",
    "plt.show()"
   ]
  },
  {
   "cell_type": "code",
   "execution_count": 20,
   "id": "92f3f518",
   "metadata": {},
   "outputs": [
    {
     "data": {
      "image/png": "[encoded data removed]",
      "text/plain": [
       "<Figure size 432x288 with 1 Axes>"
      ]
     },
     "metadata": {},
     "output_type": "display_data"
    }
   ],
   "source": [
    "data['type'].value_counts().plot(kind='pie', autopct='%.2f%%', title='Porcentajes de transacciones por tipos de la misma', ylabel='')\n",
    "plt.show()"
   ]
  },
  {
   "cell_type": "markdown",
   "id": "61348236",
   "metadata": {},
   "source": [
    "# Describiendo los datos"
   ]
  },
  {
   "cell_type": "markdown",
   "id": "9b8b76a0",
   "metadata": {},
   "source": [
    "Porcentaje de transacciones fraudulentas"
   ]
  },
  {
   "cell_type": "code",
   "execution_count": 21,
   "id": "650cab49",
   "metadata": {},
   "outputs": [
    {
     "name": "stdout",
     "output_type": "stream",
     "text": [
      "El porcentaje de transacciónes fraudulentas es del 0.12908204481801522%.\n"
     ]
    }
   ],
   "source": [
    "transac_fraudulentas = data['isFraud'][data.isFraud==1].count()\n",
    "porcentaje_de_fraude = (transac_fraudulentas/len(data))*100\n",
    "print('El porcentaje de transacciónes fraudulentas es del {}%.'.format(porcentaje_de_fraude))"
   ]
  },
  {
   "cell_type": "code",
   "execution_count": 22,
   "id": "da7a0fa5",
   "metadata": {},
   "outputs": [
    {
     "data": {
      "text/html": [
       "<div>\n",
       "<style scoped>\n",
       "    .dataframe tbody tr th:only-of-type {\n",
       "        vertical-align: middle;\n",
       "    }\n",
       "\n",
       "    .dataframe tbody tr th {\n",
       "        vertical-align: top;\n",
       "    }\n",
       "\n",
       "    .dataframe thead th {\n",
       "        text-align: right;\n",
       "    }\n",
       "</style>\n",
       "<table border=\"1\" class=\"dataframe\">\n",
       "  <thead>\n",
       "    <tr style=\"text-align: right;\">\n",
       "      <th></th>\n",
       "      <th>amount</th>\n",
       "      <th>newbalanceOrig</th>\n",
       "    </tr>\n",
       "    <tr>\n",
       "      <th>isFraud</th>\n",
       "      <th></th>\n",
       "      <th></th>\n",
       "    </tr>\n",
       "  </thead>\n",
       "  <tbody>\n",
       "    <tr>\n",
       "      <th>0</th>\n",
       "      <td>1.781970e+05</td>\n",
       "      <td>855970.228109</td>\n",
       "    </tr>\n",
       "    <tr>\n",
       "      <th>1</th>\n",
       "      <td>1.467967e+06</td>\n",
       "      <td>192392.631836</td>\n",
       "    </tr>\n",
       "  </tbody>\n",
       "</table>\n",
       "</div>"
      ],
      "text/plain": [
       "               amount  newbalanceOrig\n",
       "isFraud                              \n",
       "0        1.781970e+05   855970.228109\n",
       "1        1.467967e+06   192392.631836"
      ]
     },
     "execution_count": 22,
     "metadata": {},
     "output_type": "execute_result"
    }
   ],
   "source": [
    "data.groupby('isFraud').agg({'amount':np.average, 'newbalanceOrig':np.average})\n",
    "# Con esto podemos ver dos cosas:\n",
    "# 1) Los montos medios de las transferencias fraudulentas son mayores que los de las no fraudulentas.\n",
    "# 2) Los balances de las cuentas luego de las transacciones son menores para aquellos que realizan fraude, lo que puede indicar\n",
    "# que tratan de vaciar las cuentas.\n",
    "# De estas dos inspecciones puede ser acertado por parte de los bancos establecer límites de transacciones."
   ]
  },
  {
   "cell_type": "markdown",
   "id": "f6ecc128",
   "metadata": {},
   "source": [
    "¿Qué tipo de transacciónes terminan en fraude?"
   ]
  },
  {
   "cell_type": "code",
   "execution_count": 23,
   "id": "6b61e889",
   "metadata": {},
   "outputs": [
    {
     "name": "stdout",
     "output_type": "stream",
     "text": [
      "El número de transacciones fraudulentas correspondientes a pagos es 0.\n"
     ]
    }
   ],
   "source": [
    "payment_fraud_transactions = data['type'][data.isFraud==1][data.type=='PAYMENT'].count()\n",
    "print('El número de transacciones fraudulentas correspondientes a pagos es {}.'.format(payment_fraud_transactions))"
   ]
  },
  {
   "cell_type": "code",
   "execution_count": 24,
   "id": "445ca510",
   "metadata": {},
   "outputs": [
    {
     "name": "stdout",
     "output_type": "stream",
     "text": [
      "El número de transacciones fraudulentas correspondientes a cobros es 0.\n"
     ]
    }
   ],
   "source": [
    "cash_in_fraud_transactions = data['type'][data.isFraud==1][data.type=='CASH_IN'].count()\n",
    "print('El número de transacciones fraudulentas correspondientes a cobros es {}.'.format(cash_in_fraud_transactions))"
   ]
  },
  {
   "cell_type": "code",
   "execution_count": 25,
   "id": "73afa2cb",
   "metadata": {},
   "outputs": [
    {
     "name": "stdout",
     "output_type": "stream",
     "text": [
      "El número de transacciones fraudulentas correspondientes a devitos es 0.\n"
     ]
    }
   ],
   "source": [
    "devit_fraud_transactions = data['type'][data.isFraud==1][data.type=='DEVIT'].count()\n",
    "print('El número de transacciones fraudulentas correspondientes a devitos es {}.'.format(devit_fraud_transactions))"
   ]
  },
  {
   "cell_type": "code",
   "execution_count": 26,
   "id": "d71e88a4",
   "metadata": {},
   "outputs": [
    {
     "name": "stdout",
     "output_type": "stream",
     "text": [
      "El número de transacciones fraudulentas correspondientes a transferencias es 4097.\n"
     ]
    }
   ],
   "source": [
    "transfer_fraud_transactions = data['type'][data.isFraud==1][data.type=='TRANSFER'].count()\n",
    "print('El número de transacciones fraudulentas correspondientes a transferencias es {}.'.format(transfer_fraud_transactions))"
   ]
  },
  {
   "cell_type": "code",
   "execution_count": 27,
   "id": "66e4a0fd",
   "metadata": {},
   "outputs": [
    {
     "name": "stdout",
     "output_type": "stream",
     "text": [
      "El número de transacciones fraudulentas correspondientes a cash out es 4116.\n"
     ]
    }
   ],
   "source": [
    "cash_out_fraud_transactions = data['type'][data.isFraud==1][data.type=='CASH_OUT'].count()\n",
    "print('El número de transacciones fraudulentas correspondientes a cash out es {}.'.format(cash_out_fraud_transactions))"
   ]
  },
  {
   "cell_type": "markdown",
   "id": "f4901ef9",
   "metadata": {},
   "source": [
    "Defino categorías de fraude por montos."
   ]
  },
  {
   "cell_type": "code",
   "execution_count": 28,
   "id": "ae6159c9",
   "metadata": {},
   "outputs": [
    {
     "data": {
      "text/html": [
       "<div>\n",
       "<style scoped>\n",
       "    .dataframe tbody tr th:only-of-type {\n",
       "        vertical-align: middle;\n",
       "    }\n",
       "\n",
       "    .dataframe tbody tr th {\n",
       "        vertical-align: top;\n",
       "    }\n",
       "\n",
       "    .dataframe thead th {\n",
       "        text-align: right;\n",
       "    }\n",
       "</style>\n",
       "<table border=\"1\" class=\"dataframe\">\n",
       "  <thead>\n",
       "    <tr style=\"text-align: right;\">\n",
       "      <th></th>\n",
       "      <th>step</th>\n",
       "      <th>type</th>\n",
       "      <th>amount</th>\n",
       "      <th>nameOrig</th>\n",
       "      <th>oldbalanceOrg</th>\n",
       "      <th>newbalanceOrig</th>\n",
       "      <th>nameDest</th>\n",
       "      <th>oldbalanceDest</th>\n",
       "      <th>newbalanceDest</th>\n",
       "      <th>isFraud</th>\n",
       "      <th>isFlaggedFraud</th>\n",
       "      <th>Type_Customer_OA</th>\n",
       "      <th>Type_Customer_DA</th>\n",
       "      <th>Monto_del_fraude</th>\n",
       "    </tr>\n",
       "  </thead>\n",
       "  <tbody>\n",
       "    <tr>\n",
       "      <th>0</th>\n",
       "      <td>1</td>\n",
       "      <td>PAYMENT</td>\n",
       "      <td>9839.64</td>\n",
       "      <td>C1231006815</td>\n",
       "      <td>170136.0</td>\n",
       "      <td>160296.36</td>\n",
       "      <td>M1979787155</td>\n",
       "      <td>0.0</td>\n",
       "      <td>0.0</td>\n",
       "      <td>0</td>\n",
       "      <td>0</td>\n",
       "      <td>C</td>\n",
       "      <td>M</td>\n",
       "      <td>monto bajo</td>\n",
       "    </tr>\n",
       "    <tr>\n",
       "      <th>1</th>\n",
       "      <td>1</td>\n",
       "      <td>PAYMENT</td>\n",
       "      <td>1864.28</td>\n",
       "      <td>C1666544295</td>\n",
       "      <td>21249.0</td>\n",
       "      <td>19384.72</td>\n",
       "      <td>M2044282225</td>\n",
       "      <td>0.0</td>\n",
       "      <td>0.0</td>\n",
       "      <td>0</td>\n",
       "      <td>0</td>\n",
       "      <td>C</td>\n",
       "      <td>M</td>\n",
       "      <td>monto bajo</td>\n",
       "    </tr>\n",
       "    <tr>\n",
       "      <th>2</th>\n",
       "      <td>1</td>\n",
       "      <td>TRANSFER</td>\n",
       "      <td>181.00</td>\n",
       "      <td>C1305486145</td>\n",
       "      <td>181.0</td>\n",
       "      <td>0.00</td>\n",
       "      <td>C553264065</td>\n",
       "      <td>0.0</td>\n",
       "      <td>0.0</td>\n",
       "      <td>1</td>\n",
       "      <td>0</td>\n",
       "      <td>C</td>\n",
       "      <td>C</td>\n",
       "      <td>monto bajo</td>\n",
       "    </tr>\n",
       "    <tr>\n",
       "      <th>3</th>\n",
       "      <td>1</td>\n",
       "      <td>CASH_OUT</td>\n",
       "      <td>181.00</td>\n",
       "      <td>C840083671</td>\n",
       "      <td>181.0</td>\n",
       "      <td>0.00</td>\n",
       "      <td>C38997010</td>\n",
       "      <td>21182.0</td>\n",
       "      <td>0.0</td>\n",
       "      <td>1</td>\n",
       "      <td>0</td>\n",
       "      <td>C</td>\n",
       "      <td>C</td>\n",
       "      <td>monto bajo</td>\n",
       "    </tr>\n",
       "    <tr>\n",
       "      <th>4</th>\n",
       "      <td>1</td>\n",
       "      <td>PAYMENT</td>\n",
       "      <td>11668.14</td>\n",
       "      <td>C2048537720</td>\n",
       "      <td>41554.0</td>\n",
       "      <td>29885.86</td>\n",
       "      <td>M1230701703</td>\n",
       "      <td>0.0</td>\n",
       "      <td>0.0</td>\n",
       "      <td>0</td>\n",
       "      <td>0</td>\n",
       "      <td>C</td>\n",
       "      <td>M</td>\n",
       "      <td>monto bajo</td>\n",
       "    </tr>\n",
       "  </tbody>\n",
       "</table>\n",
       "</div>"
      ],
      "text/plain": [
       "   step      type    amount     nameOrig  oldbalanceOrg  newbalanceOrig  \\\n",
       "0     1   PAYMENT   9839.64  C1231006815       170136.0       160296.36   \n",
       "1     1   PAYMENT   1864.28  C1666544295        21249.0        19384.72   \n",
       "2     1  TRANSFER    181.00  C1305486145          181.0            0.00   \n",
       "3     1  CASH_OUT    181.00   C840083671          181.0            0.00   \n",
       "4     1   PAYMENT  11668.14  C2048537720        41554.0        29885.86   \n",
       "\n",
       "      nameDest  oldbalanceDest  newbalanceDest  isFraud  isFlaggedFraud  \\\n",
       "0  M1979787155             0.0             0.0        0               0   \n",
       "1  M2044282225             0.0             0.0        0               0   \n",
       "2   C553264065             0.0             0.0        1               0   \n",
       "3    C38997010         21182.0             0.0        1               0   \n",
       "4  M1230701703             0.0             0.0        0               0   \n",
       "\n",
       "  Type_Customer_OA Type_Customer_DA Monto_del_fraude  \n",
       "0                C                M       monto bajo  \n",
       "1                C                M       monto bajo  \n",
       "2                C                C       monto bajo  \n",
       "3                C                C       monto bajo  \n",
       "4                C                M       monto bajo  "
      ]
     },
     "execution_count": 28,
     "metadata": {},
     "output_type": "execute_result"
    }
   ],
   "source": [
    "def categorías(monto):\n",
    "    if (monto<=100000):\n",
    "        return 'monto bajo'\n",
    "    elif (monto>100000) & (monto<=1000000):\n",
    "        return 'monto medio'\n",
    "    elif (monto>1000000):\n",
    "        return 'monto alto'\n",
    "    \n",
    "data['Monto_del_fraude']= data['amount'].apply(lambda x: categorías(x))\n",
    "data.head()"
   ]
  },
  {
   "cell_type": "markdown",
   "id": "41d07826",
   "metadata": {},
   "source": [
    "Reemplazo en la columna Monto_del_fraude aquellas transacciones que no son fraude con NaN"
   ]
  },
  {
   "cell_type": "code",
   "execution_count": 29,
   "id": "89d7cc0d",
   "metadata": {},
   "outputs": [
    {
     "data": {
      "text/html": [
       "<div>\n",
       "<style scoped>\n",
       "    .dataframe tbody tr th:only-of-type {\n",
       "        vertical-align: middle;\n",
       "    }\n",
       "\n",
       "    .dataframe tbody tr th {\n",
       "        vertical-align: top;\n",
       "    }\n",
       "\n",
       "    .dataframe thead th {\n",
       "        text-align: right;\n",
       "    }\n",
       "</style>\n",
       "<table border=\"1\" class=\"dataframe\">\n",
       "  <thead>\n",
       "    <tr style=\"text-align: right;\">\n",
       "      <th></th>\n",
       "      <th>step</th>\n",
       "      <th>type</th>\n",
       "      <th>amount</th>\n",
       "      <th>nameOrig</th>\n",
       "      <th>oldbalanceOrg</th>\n",
       "      <th>newbalanceOrig</th>\n",
       "      <th>nameDest</th>\n",
       "      <th>oldbalanceDest</th>\n",
       "      <th>newbalanceDest</th>\n",
       "      <th>isFraud</th>\n",
       "      <th>isFlaggedFraud</th>\n",
       "      <th>Type_Customer_OA</th>\n",
       "      <th>Type_Customer_DA</th>\n",
       "      <th>Monto_del_fraude</th>\n",
       "    </tr>\n",
       "  </thead>\n",
       "  <tbody>\n",
       "    <tr>\n",
       "      <th>0</th>\n",
       "      <td>1</td>\n",
       "      <td>PAYMENT</td>\n",
       "      <td>9839.64</td>\n",
       "      <td>C1231006815</td>\n",
       "      <td>170136.0</td>\n",
       "      <td>160296.36</td>\n",
       "      <td>M1979787155</td>\n",
       "      <td>0.0</td>\n",
       "      <td>0.0</td>\n",
       "      <td>0</td>\n",
       "      <td>0</td>\n",
       "      <td>C</td>\n",
       "      <td>M</td>\n",
       "      <td>NaN</td>\n",
       "    </tr>\n",
       "    <tr>\n",
       "      <th>1</th>\n",
       "      <td>1</td>\n",
       "      <td>PAYMENT</td>\n",
       "      <td>1864.28</td>\n",
       "      <td>C1666544295</td>\n",
       "      <td>21249.0</td>\n",
       "      <td>19384.72</td>\n",
       "      <td>M2044282225</td>\n",
       "      <td>0.0</td>\n",
       "      <td>0.0</td>\n",
       "      <td>0</td>\n",
       "      <td>0</td>\n",
       "      <td>C</td>\n",
       "      <td>M</td>\n",
       "      <td>NaN</td>\n",
       "    </tr>\n",
       "    <tr>\n",
       "      <th>2</th>\n",
       "      <td>1</td>\n",
       "      <td>TRANSFER</td>\n",
       "      <td>181.00</td>\n",
       "      <td>C1305486145</td>\n",
       "      <td>181.0</td>\n",
       "      <td>0.00</td>\n",
       "      <td>C553264065</td>\n",
       "      <td>0.0</td>\n",
       "      <td>0.0</td>\n",
       "      <td>1</td>\n",
       "      <td>0</td>\n",
       "      <td>C</td>\n",
       "      <td>C</td>\n",
       "      <td>monto bajo</td>\n",
       "    </tr>\n",
       "    <tr>\n",
       "      <th>3</th>\n",
       "      <td>1</td>\n",
       "      <td>CASH_OUT</td>\n",
       "      <td>181.00</td>\n",
       "      <td>C840083671</td>\n",
       "      <td>181.0</td>\n",
       "      <td>0.00</td>\n",
       "      <td>C38997010</td>\n",
       "      <td>21182.0</td>\n",
       "      <td>0.0</td>\n",
       "      <td>1</td>\n",
       "      <td>0</td>\n",
       "      <td>C</td>\n",
       "      <td>C</td>\n",
       "      <td>monto bajo</td>\n",
       "    </tr>\n",
       "    <tr>\n",
       "      <th>4</th>\n",
       "      <td>1</td>\n",
       "      <td>PAYMENT</td>\n",
       "      <td>11668.14</td>\n",
       "      <td>C2048537720</td>\n",
       "      <td>41554.0</td>\n",
       "      <td>29885.86</td>\n",
       "      <td>M1230701703</td>\n",
       "      <td>0.0</td>\n",
       "      <td>0.0</td>\n",
       "      <td>0</td>\n",
       "      <td>0</td>\n",
       "      <td>C</td>\n",
       "      <td>M</td>\n",
       "      <td>NaN</td>\n",
       "    </tr>\n",
       "  </tbody>\n",
       "</table>\n",
       "</div>"
      ],
      "text/plain": [
       "   step      type    amount     nameOrig  oldbalanceOrg  newbalanceOrig  \\\n",
       "0     1   PAYMENT   9839.64  C1231006815       170136.0       160296.36   \n",
       "1     1   PAYMENT   1864.28  C1666544295        21249.0        19384.72   \n",
       "2     1  TRANSFER    181.00  C1305486145          181.0            0.00   \n",
       "3     1  CASH_OUT    181.00   C840083671          181.0            0.00   \n",
       "4     1   PAYMENT  11668.14  C2048537720        41554.0        29885.86   \n",
       "\n",
       "      nameDest  oldbalanceDest  newbalanceDest  isFraud  isFlaggedFraud  \\\n",
       "0  M1979787155             0.0             0.0        0               0   \n",
       "1  M2044282225             0.0             0.0        0               0   \n",
       "2   C553264065             0.0             0.0        1               0   \n",
       "3    C38997010         21182.0             0.0        1               0   \n",
       "4  M1230701703             0.0             0.0        0               0   \n",
       "\n",
       "  Type_Customer_OA Type_Customer_DA Monto_del_fraude  \n",
       "0                C                M              NaN  \n",
       "1                C                M              NaN  \n",
       "2                C                C       monto bajo  \n",
       "3                C                C       monto bajo  \n",
       "4                C                M              NaN  "
      ]
     },
     "execution_count": 29,
     "metadata": {},
     "output_type": "execute_result"
    }
   ],
   "source": [
    "data.loc[data.isFraud==0, 'Monto_del_fraude']= np.nan\n",
    "data.head()"
   ]
  },
  {
   "cell_type": "code",
   "execution_count": 30,
   "id": "11799b0f",
   "metadata": {},
   "outputs": [
    {
     "data": {
      "image/png": "[encoded data removed]",
      "text/plain": [
       "<Figure size 432x288 with 1 Axes>"
      ]
     },
     "metadata": {},
     "output_type": "display_data"
    }
   ],
   "source": [
    "data['Monto_del_fraude'].value_counts().plot(kind='pie', autopct='%.2f%%', title='Porcentajes de fraudes por monto del mismo', ylabel='')\n",
    "plt.show()"
   ]
  },
  {
   "cell_type": "code",
   "execution_count": 31,
   "id": "1116f834",
   "metadata": {},
   "outputs": [
    {
     "data": {
      "text/plain": [
       "step                0\n",
       "type                0\n",
       "amount              0\n",
       "nameOrig            0\n",
       "oldbalanceOrg       0\n",
       "newbalanceOrig      0\n",
       "nameDest            0\n",
       "oldbalanceDest      0\n",
       "newbalanceDest      0\n",
       "isFraud             0\n",
       "isFlaggedFraud      0\n",
       "Type_Customer_OA    0\n",
       "Type_Customer_DA    0\n",
       "Monto_del_fraude    0\n",
       "dtype: int64"
      ]
     },
     "execution_count": 31,
     "metadata": {},
     "output_type": "execute_result"
    }
   ],
   "source": [
    "data[(data['nameDest'].str[0]=='M') & (data['isFraud']==1)].count()\n",
    "#Dado que los clientes del tipo M no comienzan las transacciones y dado que las cuentas destinatarias de transacciones fraudulentas no son de clientes de tipo M\n",
    "# se puede concluir que las transacciones fraudulentas en este data set son realizadas solo desde clientes C a clientes C."
   ]
  },
  {
   "cell_type": "code",
   "execution_count": 32,
   "id": "c4461c9b",
   "metadata": {},
   "outputs": [],
   "source": [
    "# Creo variable binaria que vale 1 si el destinatario de una transacción es del tipo C y que vale cero si es de tipo M.\n",
    "data['dummie_dest'] = data.Type_Customer_DA.map({'C':1, 'M':0})\n",
    "# También creo una variable numérica que valga 0 si el tipo de transacción fue 'PAYMENT', 1 si fue 'TRANSFER', 2 si fue 'CASH_OUT', 3 si fue 'DEBIT', 4 si fue 'CASH_IN'\n",
    "data['num_type'] = data.type.map({'PAYMENT':0, 'TRANSFER':1, 'CASH_OUT':2, 'DEBIT':3, 'CASH_IN':4})"
   ]
  },
  {
   "cell_type": "markdown",
   "id": "2abc790e",
   "metadata": {},
   "source": [
    "Variable dummie que vale 1 si el que realiza la transacción transfiere todos los fondos. "
   ]
  },
  {
   "cell_type": "code",
   "execution_count": 33,
   "id": "2fb31ea2",
   "metadata": {},
   "outputs": [
    {
     "name": "stderr",
     "output_type": "stream",
     "text": [
      "C:\\Users\\HP\\AppData\\Local\\Temp/ipykernel_3492/1711609890.py:2: SettingWithCopyWarning: \n",
      "A value is trying to be set on a copy of a slice from a DataFrame\n",
      "\n",
      "See the caveats in the documentation: https://pandas.pydata.org/pandas-docs/stable/user_guide/indexing.html#returning-a-view-versus-a-copy\n",
      "  data['vaciamiento_cuenta'][data['newbalanceOrig'] ==0] = 1\n"
     ]
    }
   ],
   "source": [
    "data['vaciamiento_cuenta'] = 0\n",
    "data['vaciamiento_cuenta'][data['newbalanceOrig'] ==0] = 1"
   ]
  },
  {
   "cell_type": "code",
   "execution_count": 34,
   "id": "a653e3f8",
   "metadata": {},
   "outputs": [
    {
     "data": {
      "text/html": [
       "<div>\n",
       "<style scoped>\n",
       "    .dataframe tbody tr th:only-of-type {\n",
       "        vertical-align: middle;\n",
       "    }\n",
       "\n",
       "    .dataframe tbody tr th {\n",
       "        vertical-align: top;\n",
       "    }\n",
       "\n",
       "    .dataframe thead th {\n",
       "        text-align: right;\n",
       "    }\n",
       "</style>\n",
       "<table border=\"1\" class=\"dataframe\">\n",
       "  <thead>\n",
       "    <tr style=\"text-align: right;\">\n",
       "      <th></th>\n",
       "      <th>step</th>\n",
       "      <th>type</th>\n",
       "      <th>amount</th>\n",
       "      <th>nameOrig</th>\n",
       "      <th>oldbalanceOrg</th>\n",
       "      <th>newbalanceOrig</th>\n",
       "      <th>nameDest</th>\n",
       "      <th>oldbalanceDest</th>\n",
       "      <th>newbalanceDest</th>\n",
       "      <th>isFraud</th>\n",
       "      <th>isFlaggedFraud</th>\n",
       "      <th>Type_Customer_OA</th>\n",
       "      <th>Type_Customer_DA</th>\n",
       "      <th>Monto_del_fraude</th>\n",
       "      <th>dummie_dest</th>\n",
       "      <th>num_type</th>\n",
       "      <th>vaciamiento_cuenta</th>\n",
       "    </tr>\n",
       "  </thead>\n",
       "  <tbody>\n",
       "    <tr>\n",
       "      <th>0</th>\n",
       "      <td>1</td>\n",
       "      <td>PAYMENT</td>\n",
       "      <td>9839.64</td>\n",
       "      <td>C1231006815</td>\n",
       "      <td>170136.0</td>\n",
       "      <td>160296.36</td>\n",
       "      <td>M1979787155</td>\n",
       "      <td>0.0</td>\n",
       "      <td>0.0</td>\n",
       "      <td>0</td>\n",
       "      <td>0</td>\n",
       "      <td>C</td>\n",
       "      <td>M</td>\n",
       "      <td>NaN</td>\n",
       "      <td>0</td>\n",
       "      <td>0</td>\n",
       "      <td>0</td>\n",
       "    </tr>\n",
       "    <tr>\n",
       "      <th>1</th>\n",
       "      <td>1</td>\n",
       "      <td>PAYMENT</td>\n",
       "      <td>1864.28</td>\n",
       "      <td>C1666544295</td>\n",
       "      <td>21249.0</td>\n",
       "      <td>19384.72</td>\n",
       "      <td>M2044282225</td>\n",
       "      <td>0.0</td>\n",
       "      <td>0.0</td>\n",
       "      <td>0</td>\n",
       "      <td>0</td>\n",
       "      <td>C</td>\n",
       "      <td>M</td>\n",
       "      <td>NaN</td>\n",
       "      <td>0</td>\n",
       "      <td>0</td>\n",
       "      <td>0</td>\n",
       "    </tr>\n",
       "    <tr>\n",
       "      <th>2</th>\n",
       "      <td>1</td>\n",
       "      <td>TRANSFER</td>\n",
       "      <td>181.00</td>\n",
       "      <td>C1305486145</td>\n",
       "      <td>181.0</td>\n",
       "      <td>0.00</td>\n",
       "      <td>C553264065</td>\n",
       "      <td>0.0</td>\n",
       "      <td>0.0</td>\n",
       "      <td>1</td>\n",
       "      <td>0</td>\n",
       "      <td>C</td>\n",
       "      <td>C</td>\n",
       "      <td>monto bajo</td>\n",
       "      <td>1</td>\n",
       "      <td>1</td>\n",
       "      <td>1</td>\n",
       "    </tr>\n",
       "    <tr>\n",
       "      <th>3</th>\n",
       "      <td>1</td>\n",
       "      <td>CASH_OUT</td>\n",
       "      <td>181.00</td>\n",
       "      <td>C840083671</td>\n",
       "      <td>181.0</td>\n",
       "      <td>0.00</td>\n",
       "      <td>C38997010</td>\n",
       "      <td>21182.0</td>\n",
       "      <td>0.0</td>\n",
       "      <td>1</td>\n",
       "      <td>0</td>\n",
       "      <td>C</td>\n",
       "      <td>C</td>\n",
       "      <td>monto bajo</td>\n",
       "      <td>1</td>\n",
       "      <td>2</td>\n",
       "      <td>1</td>\n",
       "    </tr>\n",
       "    <tr>\n",
       "      <th>4</th>\n",
       "      <td>1</td>\n",
       "      <td>PAYMENT</td>\n",
       "      <td>11668.14</td>\n",
       "      <td>C2048537720</td>\n",
       "      <td>41554.0</td>\n",
       "      <td>29885.86</td>\n",
       "      <td>M1230701703</td>\n",
       "      <td>0.0</td>\n",
       "      <td>0.0</td>\n",
       "      <td>0</td>\n",
       "      <td>0</td>\n",
       "      <td>C</td>\n",
       "      <td>M</td>\n",
       "      <td>NaN</td>\n",
       "      <td>0</td>\n",
       "      <td>0</td>\n",
       "      <td>0</td>\n",
       "    </tr>\n",
       "  </tbody>\n",
       "</table>\n",
       "</div>"
      ],
      "text/plain": [
       "   step      type    amount     nameOrig  oldbalanceOrg  newbalanceOrig  \\\n",
       "0     1   PAYMENT   9839.64  C1231006815       170136.0       160296.36   \n",
       "1     1   PAYMENT   1864.28  C1666544295        21249.0        19384.72   \n",
       "2     1  TRANSFER    181.00  C1305486145          181.0            0.00   \n",
       "3     1  CASH_OUT    181.00   C840083671          181.0            0.00   \n",
       "4     1   PAYMENT  11668.14  C2048537720        41554.0        29885.86   \n",
       "\n",
       "      nameDest  oldbalanceDest  newbalanceDest  isFraud  isFlaggedFraud  \\\n",
       "0  M1979787155             0.0             0.0        0               0   \n",
       "1  M2044282225             0.0             0.0        0               0   \n",
       "2   C553264065             0.0             0.0        1               0   \n",
       "3    C38997010         21182.0             0.0        1               0   \n",
       "4  M1230701703             0.0             0.0        0               0   \n",
       "\n",
       "  Type_Customer_OA Type_Customer_DA Monto_del_fraude  dummie_dest  num_type  \\\n",
       "0                C                M              NaN            0         0   \n",
       "1                C                M              NaN            0         0   \n",
       "2                C                C       monto bajo            1         1   \n",
       "3                C                C       monto bajo            1         2   \n",
       "4                C                M              NaN            0         0   \n",
       "\n",
       "   vaciamiento_cuenta  \n",
       "0                   0  \n",
       "1                   0  \n",
       "2                   1  \n",
       "3                   1  \n",
       "4                   0  "
      ]
     },
     "execution_count": 34,
     "metadata": {},
     "output_type": "execute_result"
    }
   ],
   "source": [
    "data.head()"
   ]
  },
  {
   "cell_type": "code",
   "execution_count": 35,
   "id": "4a2d5014",
   "metadata": {},
   "outputs": [
    {
     "data": {
      "text/plain": [
       "array([ 1,  2,  3,  4,  5,  6,  7,  8,  9, 10, 11, 12, 13, 14, 15, 16, 17,\n",
       "       18, 19, 20, 21, 22, 23,  0], dtype=int64)"
      ]
     },
     "execution_count": 35,
     "metadata": {},
     "output_type": "execute_result"
    }
   ],
   "source": [
    "# Creo columna con el horario de las transacciones\n",
    "data['hora'] = (data['step'])-24*(data['step']//24)\n",
    "data.hora.unique()"
   ]
  },
  {
   "cell_type": "code",
   "execution_count": 36,
   "id": "a8350d65",
   "metadata": {},
   "outputs": [],
   "source": [
    "def periodo(h):\n",
    "    if (h>=1) & (h<=6):\n",
    "        return 'Madrugada'\n",
    "    elif (h>=7) & (h<=11):\n",
    "        return 'Mañana'\n",
    "    elif (h==12):\n",
    "        return 'Mediodia'\n",
    "    elif (h>=13) & (h<=19):\n",
    "        return 'Tarde'\n",
    "    elif (h>=20) & (h==0):\n",
    "        return 'Noche'"
   ]
  },
  {
   "cell_type": "code",
   "execution_count": 37,
   "id": "fa317473",
   "metadata": {},
   "outputs": [],
   "source": [
    "data['Periodo_transacción']= data['hora'].apply(lambda x: periodo(x))"
   ]
  },
  {
   "cell_type": "code",
   "execution_count": 38,
   "id": "d16ad6cd",
   "metadata": {},
   "outputs": [],
   "source": [
    "data['num_periodo'] = data.Periodo_transacción.map({'Madrugada':0, 'Mañana':1, 'Mediodia':2, 'Tarde':3, 'Noche':4})"
   ]
  },
  {
   "cell_type": "code",
   "execution_count": 39,
   "id": "ad8ade8a",
   "metadata": {},
   "outputs": [
    {
     "data": {
      "text/html": [
       "<div>\n",
       "<style scoped>\n",
       "    .dataframe tbody tr th:only-of-type {\n",
       "        vertical-align: middle;\n",
       "    }\n",
       "\n",
       "    .dataframe tbody tr th {\n",
       "        vertical-align: top;\n",
       "    }\n",
       "\n",
       "    .dataframe thead th {\n",
       "        text-align: right;\n",
       "    }\n",
       "</style>\n",
       "<table border=\"1\" class=\"dataframe\">\n",
       "  <thead>\n",
       "    <tr style=\"text-align: right;\">\n",
       "      <th></th>\n",
       "      <th>step</th>\n",
       "      <th>type</th>\n",
       "      <th>amount</th>\n",
       "      <th>nameOrig</th>\n",
       "      <th>oldbalanceOrg</th>\n",
       "      <th>newbalanceOrig</th>\n",
       "      <th>nameDest</th>\n",
       "      <th>oldbalanceDest</th>\n",
       "      <th>newbalanceDest</th>\n",
       "      <th>isFraud</th>\n",
       "      <th>isFlaggedFraud</th>\n",
       "      <th>Type_Customer_OA</th>\n",
       "      <th>Type_Customer_DA</th>\n",
       "      <th>Monto_del_fraude</th>\n",
       "      <th>dummie_dest</th>\n",
       "      <th>num_type</th>\n",
       "      <th>vaciamiento_cuenta</th>\n",
       "      <th>hora</th>\n",
       "      <th>Periodo_transacción</th>\n",
       "      <th>num_periodo</th>\n",
       "    </tr>\n",
       "  </thead>\n",
       "  <tbody>\n",
       "    <tr>\n",
       "      <th>0</th>\n",
       "      <td>1</td>\n",
       "      <td>PAYMENT</td>\n",
       "      <td>9839.64</td>\n",
       "      <td>C1231006815</td>\n",
       "      <td>170136.00</td>\n",
       "      <td>160296.36</td>\n",
       "      <td>M1979787155</td>\n",
       "      <td>0.0</td>\n",
       "      <td>0.00</td>\n",
       "      <td>0</td>\n",
       "      <td>0</td>\n",
       "      <td>C</td>\n",
       "      <td>M</td>\n",
       "      <td>NaN</td>\n",
       "      <td>0</td>\n",
       "      <td>0</td>\n",
       "      <td>0</td>\n",
       "      <td>1</td>\n",
       "      <td>Madrugada</td>\n",
       "      <td>0.0</td>\n",
       "    </tr>\n",
       "    <tr>\n",
       "      <th>1</th>\n",
       "      <td>1</td>\n",
       "      <td>PAYMENT</td>\n",
       "      <td>1864.28</td>\n",
       "      <td>C1666544295</td>\n",
       "      <td>21249.00</td>\n",
       "      <td>19384.72</td>\n",
       "      <td>M2044282225</td>\n",
       "      <td>0.0</td>\n",
       "      <td>0.00</td>\n",
       "      <td>0</td>\n",
       "      <td>0</td>\n",
       "      <td>C</td>\n",
       "      <td>M</td>\n",
       "      <td>NaN</td>\n",
       "      <td>0</td>\n",
       "      <td>0</td>\n",
       "      <td>0</td>\n",
       "      <td>1</td>\n",
       "      <td>Madrugada</td>\n",
       "      <td>0.0</td>\n",
       "    </tr>\n",
       "    <tr>\n",
       "      <th>2</th>\n",
       "      <td>1</td>\n",
       "      <td>TRANSFER</td>\n",
       "      <td>181.00</td>\n",
       "      <td>C1305486145</td>\n",
       "      <td>181.00</td>\n",
       "      <td>0.00</td>\n",
       "      <td>C553264065</td>\n",
       "      <td>0.0</td>\n",
       "      <td>0.00</td>\n",
       "      <td>1</td>\n",
       "      <td>0</td>\n",
       "      <td>C</td>\n",
       "      <td>C</td>\n",
       "      <td>monto bajo</td>\n",
       "      <td>1</td>\n",
       "      <td>1</td>\n",
       "      <td>1</td>\n",
       "      <td>1</td>\n",
       "      <td>Madrugada</td>\n",
       "      <td>0.0</td>\n",
       "    </tr>\n",
       "    <tr>\n",
       "      <th>3</th>\n",
       "      <td>1</td>\n",
       "      <td>CASH_OUT</td>\n",
       "      <td>181.00</td>\n",
       "      <td>C840083671</td>\n",
       "      <td>181.00</td>\n",
       "      <td>0.00</td>\n",
       "      <td>C38997010</td>\n",
       "      <td>21182.0</td>\n",
       "      <td>0.00</td>\n",
       "      <td>1</td>\n",
       "      <td>0</td>\n",
       "      <td>C</td>\n",
       "      <td>C</td>\n",
       "      <td>monto bajo</td>\n",
       "      <td>1</td>\n",
       "      <td>2</td>\n",
       "      <td>1</td>\n",
       "      <td>1</td>\n",
       "      <td>Madrugada</td>\n",
       "      <td>0.0</td>\n",
       "    </tr>\n",
       "    <tr>\n",
       "      <th>4</th>\n",
       "      <td>1</td>\n",
       "      <td>PAYMENT</td>\n",
       "      <td>11668.14</td>\n",
       "      <td>C2048537720</td>\n",
       "      <td>41554.00</td>\n",
       "      <td>29885.86</td>\n",
       "      <td>M1230701703</td>\n",
       "      <td>0.0</td>\n",
       "      <td>0.00</td>\n",
       "      <td>0</td>\n",
       "      <td>0</td>\n",
       "      <td>C</td>\n",
       "      <td>M</td>\n",
       "      <td>NaN</td>\n",
       "      <td>0</td>\n",
       "      <td>0</td>\n",
       "      <td>0</td>\n",
       "      <td>1</td>\n",
       "      <td>Madrugada</td>\n",
       "      <td>0.0</td>\n",
       "    </tr>\n",
       "    <tr>\n",
       "      <th>5</th>\n",
       "      <td>1</td>\n",
       "      <td>PAYMENT</td>\n",
       "      <td>7817.71</td>\n",
       "      <td>C90045638</td>\n",
       "      <td>53860.00</td>\n",
       "      <td>46042.29</td>\n",
       "      <td>M573487274</td>\n",
       "      <td>0.0</td>\n",
       "      <td>0.00</td>\n",
       "      <td>0</td>\n",
       "      <td>0</td>\n",
       "      <td>C</td>\n",
       "      <td>M</td>\n",
       "      <td>NaN</td>\n",
       "      <td>0</td>\n",
       "      <td>0</td>\n",
       "      <td>0</td>\n",
       "      <td>1</td>\n",
       "      <td>Madrugada</td>\n",
       "      <td>0.0</td>\n",
       "    </tr>\n",
       "    <tr>\n",
       "      <th>6</th>\n",
       "      <td>1</td>\n",
       "      <td>PAYMENT</td>\n",
       "      <td>7107.77</td>\n",
       "      <td>C154988899</td>\n",
       "      <td>183195.00</td>\n",
       "      <td>176087.23</td>\n",
       "      <td>M408069119</td>\n",
       "      <td>0.0</td>\n",
       "      <td>0.00</td>\n",
       "      <td>0</td>\n",
       "      <td>0</td>\n",
       "      <td>C</td>\n",
       "      <td>M</td>\n",
       "      <td>NaN</td>\n",
       "      <td>0</td>\n",
       "      <td>0</td>\n",
       "      <td>0</td>\n",
       "      <td>1</td>\n",
       "      <td>Madrugada</td>\n",
       "      <td>0.0</td>\n",
       "    </tr>\n",
       "    <tr>\n",
       "      <th>7</th>\n",
       "      <td>1</td>\n",
       "      <td>PAYMENT</td>\n",
       "      <td>7861.64</td>\n",
       "      <td>C1912850431</td>\n",
       "      <td>176087.23</td>\n",
       "      <td>168225.59</td>\n",
       "      <td>M633326333</td>\n",
       "      <td>0.0</td>\n",
       "      <td>0.00</td>\n",
       "      <td>0</td>\n",
       "      <td>0</td>\n",
       "      <td>C</td>\n",
       "      <td>M</td>\n",
       "      <td>NaN</td>\n",
       "      <td>0</td>\n",
       "      <td>0</td>\n",
       "      <td>0</td>\n",
       "      <td>1</td>\n",
       "      <td>Madrugada</td>\n",
       "      <td>0.0</td>\n",
       "    </tr>\n",
       "    <tr>\n",
       "      <th>8</th>\n",
       "      <td>1</td>\n",
       "      <td>PAYMENT</td>\n",
       "      <td>4024.36</td>\n",
       "      <td>C1265012928</td>\n",
       "      <td>2671.00</td>\n",
       "      <td>0.00</td>\n",
       "      <td>M1176932104</td>\n",
       "      <td>0.0</td>\n",
       "      <td>0.00</td>\n",
       "      <td>0</td>\n",
       "      <td>0</td>\n",
       "      <td>C</td>\n",
       "      <td>M</td>\n",
       "      <td>NaN</td>\n",
       "      <td>0</td>\n",
       "      <td>0</td>\n",
       "      <td>1</td>\n",
       "      <td>1</td>\n",
       "      <td>Madrugada</td>\n",
       "      <td>0.0</td>\n",
       "    </tr>\n",
       "    <tr>\n",
       "      <th>9</th>\n",
       "      <td>1</td>\n",
       "      <td>DEBIT</td>\n",
       "      <td>5337.77</td>\n",
       "      <td>C712410124</td>\n",
       "      <td>41720.00</td>\n",
       "      <td>36382.23</td>\n",
       "      <td>C195600860</td>\n",
       "      <td>41898.0</td>\n",
       "      <td>40348.79</td>\n",
       "      <td>0</td>\n",
       "      <td>0</td>\n",
       "      <td>C</td>\n",
       "      <td>C</td>\n",
       "      <td>NaN</td>\n",
       "      <td>1</td>\n",
       "      <td>3</td>\n",
       "      <td>0</td>\n",
       "      <td>1</td>\n",
       "      <td>Madrugada</td>\n",
       "      <td>0.0</td>\n",
       "    </tr>\n",
       "    <tr>\n",
       "      <th>10</th>\n",
       "      <td>1</td>\n",
       "      <td>DEBIT</td>\n",
       "      <td>9644.94</td>\n",
       "      <td>C1900366749</td>\n",
       "      <td>4465.00</td>\n",
       "      <td>0.00</td>\n",
       "      <td>C997608398</td>\n",
       "      <td>10845.0</td>\n",
       "      <td>157982.12</td>\n",
       "      <td>0</td>\n",
       "      <td>0</td>\n",
       "      <td>C</td>\n",
       "      <td>C</td>\n",
       "      <td>NaN</td>\n",
       "      <td>1</td>\n",
       "      <td>3</td>\n",
       "      <td>1</td>\n",
       "      <td>1</td>\n",
       "      <td>Madrugada</td>\n",
       "      <td>0.0</td>\n",
       "    </tr>\n",
       "    <tr>\n",
       "      <th>11</th>\n",
       "      <td>1</td>\n",
       "      <td>PAYMENT</td>\n",
       "      <td>3099.97</td>\n",
       "      <td>C249177573</td>\n",
       "      <td>20771.00</td>\n",
       "      <td>17671.03</td>\n",
       "      <td>M2096539129</td>\n",
       "      <td>0.0</td>\n",
       "      <td>0.00</td>\n",
       "      <td>0</td>\n",
       "      <td>0</td>\n",
       "      <td>C</td>\n",
       "      <td>M</td>\n",
       "      <td>NaN</td>\n",
       "      <td>0</td>\n",
       "      <td>0</td>\n",
       "      <td>0</td>\n",
       "      <td>1</td>\n",
       "      <td>Madrugada</td>\n",
       "      <td>0.0</td>\n",
       "    </tr>\n",
       "    <tr>\n",
       "      <th>12</th>\n",
       "      <td>1</td>\n",
       "      <td>PAYMENT</td>\n",
       "      <td>2560.74</td>\n",
       "      <td>C1648232591</td>\n",
       "      <td>5070.00</td>\n",
       "      <td>2509.26</td>\n",
       "      <td>M972865270</td>\n",
       "      <td>0.0</td>\n",
       "      <td>0.00</td>\n",
       "      <td>0</td>\n",
       "      <td>0</td>\n",
       "      <td>C</td>\n",
       "      <td>M</td>\n",
       "      <td>NaN</td>\n",
       "      <td>0</td>\n",
       "      <td>0</td>\n",
       "      <td>0</td>\n",
       "      <td>1</td>\n",
       "      <td>Madrugada</td>\n",
       "      <td>0.0</td>\n",
       "    </tr>\n",
       "    <tr>\n",
       "      <th>13</th>\n",
       "      <td>1</td>\n",
       "      <td>PAYMENT</td>\n",
       "      <td>11633.76</td>\n",
       "      <td>C1716932897</td>\n",
       "      <td>10127.00</td>\n",
       "      <td>0.00</td>\n",
       "      <td>M801569151</td>\n",
       "      <td>0.0</td>\n",
       "      <td>0.00</td>\n",
       "      <td>0</td>\n",
       "      <td>0</td>\n",
       "      <td>C</td>\n",
       "      <td>M</td>\n",
       "      <td>NaN</td>\n",
       "      <td>0</td>\n",
       "      <td>0</td>\n",
       "      <td>1</td>\n",
       "      <td>1</td>\n",
       "      <td>Madrugada</td>\n",
       "      <td>0.0</td>\n",
       "    </tr>\n",
       "    <tr>\n",
       "      <th>14</th>\n",
       "      <td>1</td>\n",
       "      <td>PAYMENT</td>\n",
       "      <td>4098.78</td>\n",
       "      <td>C1026483832</td>\n",
       "      <td>503264.00</td>\n",
       "      <td>499165.22</td>\n",
       "      <td>M1635378213</td>\n",
       "      <td>0.0</td>\n",
       "      <td>0.00</td>\n",
       "      <td>0</td>\n",
       "      <td>0</td>\n",
       "      <td>C</td>\n",
       "      <td>M</td>\n",
       "      <td>NaN</td>\n",
       "      <td>0</td>\n",
       "      <td>0</td>\n",
       "      <td>0</td>\n",
       "      <td>1</td>\n",
       "      <td>Madrugada</td>\n",
       "      <td>0.0</td>\n",
       "    </tr>\n",
       "    <tr>\n",
       "      <th>15</th>\n",
       "      <td>1</td>\n",
       "      <td>CASH_OUT</td>\n",
       "      <td>229133.94</td>\n",
       "      <td>C905080434</td>\n",
       "      <td>15325.00</td>\n",
       "      <td>0.00</td>\n",
       "      <td>C476402209</td>\n",
       "      <td>5083.0</td>\n",
       "      <td>51513.44</td>\n",
       "      <td>0</td>\n",
       "      <td>0</td>\n",
       "      <td>C</td>\n",
       "      <td>C</td>\n",
       "      <td>NaN</td>\n",
       "      <td>1</td>\n",
       "      <td>2</td>\n",
       "      <td>1</td>\n",
       "      <td>1</td>\n",
       "      <td>Madrugada</td>\n",
       "      <td>0.0</td>\n",
       "    </tr>\n",
       "    <tr>\n",
       "      <th>16</th>\n",
       "      <td>1</td>\n",
       "      <td>PAYMENT</td>\n",
       "      <td>1563.82</td>\n",
       "      <td>C761750706</td>\n",
       "      <td>450.00</td>\n",
       "      <td>0.00</td>\n",
       "      <td>M1731217984</td>\n",
       "      <td>0.0</td>\n",
       "      <td>0.00</td>\n",
       "      <td>0</td>\n",
       "      <td>0</td>\n",
       "      <td>C</td>\n",
       "      <td>M</td>\n",
       "      <td>NaN</td>\n",
       "      <td>0</td>\n",
       "      <td>0</td>\n",
       "      <td>1</td>\n",
       "      <td>1</td>\n",
       "      <td>Madrugada</td>\n",
       "      <td>0.0</td>\n",
       "    </tr>\n",
       "    <tr>\n",
       "      <th>17</th>\n",
       "      <td>1</td>\n",
       "      <td>PAYMENT</td>\n",
       "      <td>1157.86</td>\n",
       "      <td>C1237762639</td>\n",
       "      <td>21156.00</td>\n",
       "      <td>19998.14</td>\n",
       "      <td>M1877062907</td>\n",
       "      <td>0.0</td>\n",
       "      <td>0.00</td>\n",
       "      <td>0</td>\n",
       "      <td>0</td>\n",
       "      <td>C</td>\n",
       "      <td>M</td>\n",
       "      <td>NaN</td>\n",
       "      <td>0</td>\n",
       "      <td>0</td>\n",
       "      <td>0</td>\n",
       "      <td>1</td>\n",
       "      <td>Madrugada</td>\n",
       "      <td>0.0</td>\n",
       "    </tr>\n",
       "    <tr>\n",
       "      <th>18</th>\n",
       "      <td>1</td>\n",
       "      <td>PAYMENT</td>\n",
       "      <td>671.64</td>\n",
       "      <td>C2033524545</td>\n",
       "      <td>15123.00</td>\n",
       "      <td>14451.36</td>\n",
       "      <td>M473053293</td>\n",
       "      <td>0.0</td>\n",
       "      <td>0.00</td>\n",
       "      <td>0</td>\n",
       "      <td>0</td>\n",
       "      <td>C</td>\n",
       "      <td>M</td>\n",
       "      <td>NaN</td>\n",
       "      <td>0</td>\n",
       "      <td>0</td>\n",
       "      <td>0</td>\n",
       "      <td>1</td>\n",
       "      <td>Madrugada</td>\n",
       "      <td>0.0</td>\n",
       "    </tr>\n",
       "    <tr>\n",
       "      <th>19</th>\n",
       "      <td>1</td>\n",
       "      <td>TRANSFER</td>\n",
       "      <td>215310.30</td>\n",
       "      <td>C1670993182</td>\n",
       "      <td>705.00</td>\n",
       "      <td>0.00</td>\n",
       "      <td>C1100439041</td>\n",
       "      <td>22425.0</td>\n",
       "      <td>0.00</td>\n",
       "      <td>0</td>\n",
       "      <td>0</td>\n",
       "      <td>C</td>\n",
       "      <td>C</td>\n",
       "      <td>NaN</td>\n",
       "      <td>1</td>\n",
       "      <td>1</td>\n",
       "      <td>1</td>\n",
       "      <td>1</td>\n",
       "      <td>Madrugada</td>\n",
       "      <td>0.0</td>\n",
       "    </tr>\n",
       "  </tbody>\n",
       "</table>\n",
       "</div>"
      ],
      "text/plain": [
       "    step      type     amount     nameOrig  oldbalanceOrg  newbalanceOrig  \\\n",
       "0      1   PAYMENT    9839.64  C1231006815      170136.00       160296.36   \n",
       "1      1   PAYMENT    1864.28  C1666544295       21249.00        19384.72   \n",
       "2      1  TRANSFER     181.00  C1305486145         181.00            0.00   \n",
       "3      1  CASH_OUT     181.00   C840083671         181.00            0.00   \n",
       "4      1   PAYMENT   11668.14  C2048537720       41554.00        29885.86   \n",
       "5      1   PAYMENT    7817.71    C90045638       53860.00        46042.29   \n",
       "6      1   PAYMENT    7107.77   C154988899      183195.00       176087.23   \n",
       "7      1   PAYMENT    7861.64  C1912850431      176087.23       168225.59   \n",
       "8      1   PAYMENT    4024.36  C1265012928        2671.00            0.00   \n",
       "9      1     DEBIT    5337.77   C712410124       41720.00        36382.23   \n",
       "10     1     DEBIT    9644.94  C1900366749        4465.00            0.00   \n",
       "11     1   PAYMENT    3099.97   C249177573       20771.00        17671.03   \n",
       "12     1   PAYMENT    2560.74  C1648232591        5070.00         2509.26   \n",
       "13     1   PAYMENT   11633.76  C1716932897       10127.00            0.00   \n",
       "14     1   PAYMENT    4098.78  C1026483832      503264.00       499165.22   \n",
       "15     1  CASH_OUT  229133.94   C905080434       15325.00            0.00   \n",
       "16     1   PAYMENT    1563.82   C761750706         450.00            0.00   \n",
       "17     1   PAYMENT    1157.86  C1237762639       21156.00        19998.14   \n",
       "18     1   PAYMENT     671.64  C2033524545       15123.00        14451.36   \n",
       "19     1  TRANSFER  215310.30  C1670993182         705.00            0.00   \n",
       "\n",
       "       nameDest  oldbalanceDest  newbalanceDest  isFraud  isFlaggedFraud  \\\n",
       "0   M1979787155             0.0            0.00        0               0   \n",
       "1   M2044282225             0.0            0.00        0               0   \n",
       "2    C553264065             0.0            0.00        1               0   \n",
       "3     C38997010         21182.0            0.00        1               0   \n",
       "4   M1230701703             0.0            0.00        0               0   \n",
       "5    M573487274             0.0            0.00        0               0   \n",
       "6    M408069119             0.0            0.00        0               0   \n",
       "7    M633326333             0.0            0.00        0               0   \n",
       "8   M1176932104             0.0            0.00        0               0   \n",
       "9    C195600860         41898.0        40348.79        0               0   \n",
       "10   C997608398         10845.0       157982.12        0               0   \n",
       "11  M2096539129             0.0            0.00        0               0   \n",
       "12   M972865270             0.0            0.00        0               0   \n",
       "13   M801569151             0.0            0.00        0               0   \n",
       "14  M1635378213             0.0            0.00        0               0   \n",
       "15   C476402209          5083.0        51513.44        0               0   \n",
       "16  M1731217984             0.0            0.00        0               0   \n",
       "17  M1877062907             0.0            0.00        0               0   \n",
       "18   M473053293             0.0            0.00        0               0   \n",
       "19  C1100439041         22425.0            0.00        0               0   \n",
       "\n",
       "   Type_Customer_OA Type_Customer_DA Monto_del_fraude  dummie_dest  num_type  \\\n",
       "0                 C                M              NaN            0         0   \n",
       "1                 C                M              NaN            0         0   \n",
       "2                 C                C       monto bajo            1         1   \n",
       "3                 C                C       monto bajo            1         2   \n",
       "4                 C                M              NaN            0         0   \n",
       "5                 C                M              NaN            0         0   \n",
       "6                 C                M              NaN            0         0   \n",
       "7                 C                M              NaN            0         0   \n",
       "8                 C                M              NaN            0         0   \n",
       "9                 C                C              NaN            1         3   \n",
       "10                C                C              NaN            1         3   \n",
       "11                C                M              NaN            0         0   \n",
       "12                C                M              NaN            0         0   \n",
       "13                C                M              NaN            0         0   \n",
       "14                C                M              NaN            0         0   \n",
       "15                C                C              NaN            1         2   \n",
       "16                C                M              NaN            0         0   \n",
       "17                C                M              NaN            0         0   \n",
       "18                C                M              NaN            0         0   \n",
       "19                C                C              NaN            1         1   \n",
       "\n",
       "    vaciamiento_cuenta  hora Periodo_transacción  num_periodo  \n",
       "0                    0     1           Madrugada          0.0  \n",
       "1                    0     1           Madrugada          0.0  \n",
       "2                    1     1           Madrugada          0.0  \n",
       "3                    1     1           Madrugada          0.0  \n",
       "4                    0     1           Madrugada          0.0  \n",
       "5                    0     1           Madrugada          0.0  \n",
       "6                    0     1           Madrugada          0.0  \n",
       "7                    0     1           Madrugada          0.0  \n",
       "8                    1     1           Madrugada          0.0  \n",
       "9                    0     1           Madrugada          0.0  \n",
       "10                   1     1           Madrugada          0.0  \n",
       "11                   0     1           Madrugada          0.0  \n",
       "12                   0     1           Madrugada          0.0  \n",
       "13                   1     1           Madrugada          0.0  \n",
       "14                   0     1           Madrugada          0.0  \n",
       "15                   1     1           Madrugada          0.0  \n",
       "16                   1     1           Madrugada          0.0  \n",
       "17                   0     1           Madrugada          0.0  \n",
       "18                   0     1           Madrugada          0.0  \n",
       "19                   1     1           Madrugada          0.0  "
      ]
     },
     "execution_count": 39,
     "metadata": {},
     "output_type": "execute_result"
    }
   ],
   "source": [
    "data.head(20)"
   ]
  },
  {
   "cell_type": "code",
   "execution_count": 40,
   "id": "e86dc5f3",
   "metadata": {},
   "outputs": [],
   "source": [
    "data_copia = data.copy(deep=True)"
   ]
  },
  {
   "cell_type": "code",
   "execution_count": 41,
   "id": "96ec60d4",
   "metadata": {},
   "outputs": [
    {
     "data": {
      "text/html": [
       "<div>\n",
       "<style scoped>\n",
       "    .dataframe tbody tr th:only-of-type {\n",
       "        vertical-align: middle;\n",
       "    }\n",
       "\n",
       "    .dataframe tbody tr th {\n",
       "        vertical-align: top;\n",
       "    }\n",
       "\n",
       "    .dataframe thead th {\n",
       "        text-align: right;\n",
       "    }\n",
       "</style>\n",
       "<table border=\"1\" class=\"dataframe\">\n",
       "  <thead>\n",
       "    <tr style=\"text-align: right;\">\n",
       "      <th></th>\n",
       "      <th>step</th>\n",
       "      <th>type</th>\n",
       "      <th>amount</th>\n",
       "      <th>nameOrig</th>\n",
       "      <th>oldbalanceOrg</th>\n",
       "      <th>newbalanceOrig</th>\n",
       "      <th>nameDest</th>\n",
       "      <th>oldbalanceDest</th>\n",
       "      <th>newbalanceDest</th>\n",
       "      <th>isFraud</th>\n",
       "      <th>isFlaggedFraud</th>\n",
       "      <th>Type_Customer_OA</th>\n",
       "      <th>Type_Customer_DA</th>\n",
       "      <th>Monto_del_fraude</th>\n",
       "      <th>dummie_dest</th>\n",
       "      <th>num_type</th>\n",
       "      <th>vaciamiento_cuenta</th>\n",
       "      <th>hora</th>\n",
       "      <th>Periodo_transacción</th>\n",
       "      <th>num_periodo</th>\n",
       "    </tr>\n",
       "  </thead>\n",
       "  <tbody>\n",
       "    <tr>\n",
       "      <th>0</th>\n",
       "      <td>1</td>\n",
       "      <td>PAYMENT</td>\n",
       "      <td>9839.64</td>\n",
       "      <td>C1231006815</td>\n",
       "      <td>170136.0</td>\n",
       "      <td>160296.36</td>\n",
       "      <td>M1979787155</td>\n",
       "      <td>0.0</td>\n",
       "      <td>0.0</td>\n",
       "      <td>0</td>\n",
       "      <td>0</td>\n",
       "      <td>C</td>\n",
       "      <td>M</td>\n",
       "      <td>NaN</td>\n",
       "      <td>0</td>\n",
       "      <td>0</td>\n",
       "      <td>0</td>\n",
       "      <td>1</td>\n",
       "      <td>Madrugada</td>\n",
       "      <td>0.0</td>\n",
       "    </tr>\n",
       "    <tr>\n",
       "      <th>1</th>\n",
       "      <td>1</td>\n",
       "      <td>PAYMENT</td>\n",
       "      <td>1864.28</td>\n",
       "      <td>C1666544295</td>\n",
       "      <td>21249.0</td>\n",
       "      <td>19384.72</td>\n",
       "      <td>M2044282225</td>\n",
       "      <td>0.0</td>\n",
       "      <td>0.0</td>\n",
       "      <td>0</td>\n",
       "      <td>0</td>\n",
       "      <td>C</td>\n",
       "      <td>M</td>\n",
       "      <td>NaN</td>\n",
       "      <td>0</td>\n",
       "      <td>0</td>\n",
       "      <td>0</td>\n",
       "      <td>1</td>\n",
       "      <td>Madrugada</td>\n",
       "      <td>0.0</td>\n",
       "    </tr>\n",
       "    <tr>\n",
       "      <th>2</th>\n",
       "      <td>1</td>\n",
       "      <td>TRANSFER</td>\n",
       "      <td>181.00</td>\n",
       "      <td>C1305486145</td>\n",
       "      <td>181.0</td>\n",
       "      <td>0.00</td>\n",
       "      <td>C553264065</td>\n",
       "      <td>0.0</td>\n",
       "      <td>0.0</td>\n",
       "      <td>1</td>\n",
       "      <td>0</td>\n",
       "      <td>C</td>\n",
       "      <td>C</td>\n",
       "      <td>monto bajo</td>\n",
       "      <td>1</td>\n",
       "      <td>1</td>\n",
       "      <td>1</td>\n",
       "      <td>1</td>\n",
       "      <td>Madrugada</td>\n",
       "      <td>0.0</td>\n",
       "    </tr>\n",
       "    <tr>\n",
       "      <th>3</th>\n",
       "      <td>1</td>\n",
       "      <td>CASH_OUT</td>\n",
       "      <td>181.00</td>\n",
       "      <td>C840083671</td>\n",
       "      <td>181.0</td>\n",
       "      <td>0.00</td>\n",
       "      <td>C38997010</td>\n",
       "      <td>21182.0</td>\n",
       "      <td>0.0</td>\n",
       "      <td>1</td>\n",
       "      <td>0</td>\n",
       "      <td>C</td>\n",
       "      <td>C</td>\n",
       "      <td>monto bajo</td>\n",
       "      <td>1</td>\n",
       "      <td>2</td>\n",
       "      <td>1</td>\n",
       "      <td>1</td>\n",
       "      <td>Madrugada</td>\n",
       "      <td>0.0</td>\n",
       "    </tr>\n",
       "    <tr>\n",
       "      <th>4</th>\n",
       "      <td>1</td>\n",
       "      <td>PAYMENT</td>\n",
       "      <td>11668.14</td>\n",
       "      <td>C2048537720</td>\n",
       "      <td>41554.0</td>\n",
       "      <td>29885.86</td>\n",
       "      <td>M1230701703</td>\n",
       "      <td>0.0</td>\n",
       "      <td>0.0</td>\n",
       "      <td>0</td>\n",
       "      <td>0</td>\n",
       "      <td>C</td>\n",
       "      <td>M</td>\n",
       "      <td>NaN</td>\n",
       "      <td>0</td>\n",
       "      <td>0</td>\n",
       "      <td>0</td>\n",
       "      <td>1</td>\n",
       "      <td>Madrugada</td>\n",
       "      <td>0.0</td>\n",
       "    </tr>\n",
       "  </tbody>\n",
       "</table>\n",
       "</div>"
      ],
      "text/plain": [
       "   step      type    amount     nameOrig  oldbalanceOrg  newbalanceOrig  \\\n",
       "0     1   PAYMENT   9839.64  C1231006815       170136.0       160296.36   \n",
       "1     1   PAYMENT   1864.28  C1666544295        21249.0        19384.72   \n",
       "2     1  TRANSFER    181.00  C1305486145          181.0            0.00   \n",
       "3     1  CASH_OUT    181.00   C840083671          181.0            0.00   \n",
       "4     1   PAYMENT  11668.14  C2048537720        41554.0        29885.86   \n",
       "\n",
       "      nameDest  oldbalanceDest  newbalanceDest  isFraud  isFlaggedFraud  \\\n",
       "0  M1979787155             0.0             0.0        0               0   \n",
       "1  M2044282225             0.0             0.0        0               0   \n",
       "2   C553264065             0.0             0.0        1               0   \n",
       "3    C38997010         21182.0             0.0        1               0   \n",
       "4  M1230701703             0.0             0.0        0               0   \n",
       "\n",
       "  Type_Customer_OA Type_Customer_DA Monto_del_fraude  dummie_dest  num_type  \\\n",
       "0                C                M              NaN            0         0   \n",
       "1                C                M              NaN            0         0   \n",
       "2                C                C       monto bajo            1         1   \n",
       "3                C                C       monto bajo            1         2   \n",
       "4                C                M              NaN            0         0   \n",
       "\n",
       "   vaciamiento_cuenta  hora Periodo_transacción  num_periodo  \n",
       "0                   0     1           Madrugada          0.0  \n",
       "1                   0     1           Madrugada          0.0  \n",
       "2                   1     1           Madrugada          0.0  \n",
       "3                   1     1           Madrugada          0.0  \n",
       "4                   0     1           Madrugada          0.0  "
      ]
     },
     "execution_count": 41,
     "metadata": {},
     "output_type": "execute_result"
    }
   ],
   "source": [
    "data_copia.head()"
   ]
  },
  {
   "cell_type": "code",
   "execution_count": 42,
   "id": "28916db8",
   "metadata": {},
   "outputs": [],
   "source": [
    "data_copia.drop(['step','nameOrig','oldbalanceOrg','newbalanceOrig','nameDest','oldbalanceDest','newbalanceDest','Type_Customer_DA','Type_Customer_OA','Monto_del_fraude'], axis=1, inplace=True)"
   ]
  },
  {
   "cell_type": "code",
   "execution_count": 43,
   "id": "4bdc4c54",
   "metadata": {},
   "outputs": [
    {
     "data": {
      "text/html": [
       "<div>\n",
       "<style scoped>\n",
       "    .dataframe tbody tr th:only-of-type {\n",
       "        vertical-align: middle;\n",
       "    }\n",
       "\n",
       "    .dataframe tbody tr th {\n",
       "        vertical-align: top;\n",
       "    }\n",
       "\n",
       "    .dataframe thead th {\n",
       "        text-align: right;\n",
       "    }\n",
       "</style>\n",
       "<table border=\"1\" class=\"dataframe\">\n",
       "  <thead>\n",
       "    <tr style=\"text-align: right;\">\n",
       "      <th></th>\n",
       "      <th>type</th>\n",
       "      <th>amount</th>\n",
       "      <th>isFraud</th>\n",
       "      <th>isFlaggedFraud</th>\n",
       "      <th>dummie_dest</th>\n",
       "      <th>num_type</th>\n",
       "      <th>vaciamiento_cuenta</th>\n",
       "      <th>hora</th>\n",
       "      <th>Periodo_transacción</th>\n",
       "      <th>num_periodo</th>\n",
       "    </tr>\n",
       "  </thead>\n",
       "  <tbody>\n",
       "    <tr>\n",
       "      <th>0</th>\n",
       "      <td>PAYMENT</td>\n",
       "      <td>9839.64</td>\n",
       "      <td>0</td>\n",
       "      <td>0</td>\n",
       "      <td>0</td>\n",
       "      <td>0</td>\n",
       "      <td>0</td>\n",
       "      <td>1</td>\n",
       "      <td>Madrugada</td>\n",
       "      <td>0.0</td>\n",
       "    </tr>\n",
       "    <tr>\n",
       "      <th>1</th>\n",
       "      <td>PAYMENT</td>\n",
       "      <td>1864.28</td>\n",
       "      <td>0</td>\n",
       "      <td>0</td>\n",
       "      <td>0</td>\n",
       "      <td>0</td>\n",
       "      <td>0</td>\n",
       "      <td>1</td>\n",
       "      <td>Madrugada</td>\n",
       "      <td>0.0</td>\n",
       "    </tr>\n",
       "    <tr>\n",
       "      <th>2</th>\n",
       "      <td>TRANSFER</td>\n",
       "      <td>181.00</td>\n",
       "      <td>1</td>\n",
       "      <td>0</td>\n",
       "      <td>1</td>\n",
       "      <td>1</td>\n",
       "      <td>1</td>\n",
       "      <td>1</td>\n",
       "      <td>Madrugada</td>\n",
       "      <td>0.0</td>\n",
       "    </tr>\n",
       "    <tr>\n",
       "      <th>3</th>\n",
       "      <td>CASH_OUT</td>\n",
       "      <td>181.00</td>\n",
       "      <td>1</td>\n",
       "      <td>0</td>\n",
       "      <td>1</td>\n",
       "      <td>2</td>\n",
       "      <td>1</td>\n",
       "      <td>1</td>\n",
       "      <td>Madrugada</td>\n",
       "      <td>0.0</td>\n",
       "    </tr>\n",
       "    <tr>\n",
       "      <th>4</th>\n",
       "      <td>PAYMENT</td>\n",
       "      <td>11668.14</td>\n",
       "      <td>0</td>\n",
       "      <td>0</td>\n",
       "      <td>0</td>\n",
       "      <td>0</td>\n",
       "      <td>0</td>\n",
       "      <td>1</td>\n",
       "      <td>Madrugada</td>\n",
       "      <td>0.0</td>\n",
       "    </tr>\n",
       "  </tbody>\n",
       "</table>\n",
       "</div>"
      ],
      "text/plain": [
       "       type    amount  isFraud  isFlaggedFraud  dummie_dest  num_type  \\\n",
       "0   PAYMENT   9839.64        0               0            0         0   \n",
       "1   PAYMENT   1864.28        0               0            0         0   \n",
       "2  TRANSFER    181.00        1               0            1         1   \n",
       "3  CASH_OUT    181.00        1               0            1         2   \n",
       "4   PAYMENT  11668.14        0               0            0         0   \n",
       "\n",
       "   vaciamiento_cuenta  hora Periodo_transacción  num_periodo  \n",
       "0                   0     1           Madrugada          0.0  \n",
       "1                   0     1           Madrugada          0.0  \n",
       "2                   1     1           Madrugada          0.0  \n",
       "3                   1     1           Madrugada          0.0  \n",
       "4                   0     1           Madrugada          0.0  "
      ]
     },
     "execution_count": 43,
     "metadata": {},
     "output_type": "execute_result"
    }
   ],
   "source": [
    "data_copia.head()"
   ]
  },
  {
   "cell_type": "code",
   "execution_count": 44,
   "id": "ad6c8527",
   "metadata": {},
   "outputs": [
    {
     "data": {
      "text/plain": [
       "(0.0, 23.0)"
      ]
     },
     "execution_count": 44,
     "metadata": {},
     "output_type": "execute_result"
    },
    {
     "data": {
      "image/png": "[encoded data removed]",
      "text/plain": [
       "<Figure size 720x432 with 1 Axes>"
      ]
     },
     "metadata": {
      "needs_background": "light"
     },
     "output_type": "display_data"
    },
    {
     "data": {
      "image/png": "[encoded data removed]",
      "text/plain": [
       "<Figure size 720x432 with 1 Axes>"
      ]
     },
     "metadata": {
      "needs_background": "light"
     },
     "output_type": "display_data"
    }
   ],
   "source": [
    "plt.figure(figsize=(10,6))\n",
    "sns.histplot(data = data_copia.sample(10000), x='hora', bins=23, kde=True)\n",
    "plt.title('Distribución de las transacciónes por hora', fontdict={'fontsize':18})\n",
    "plt.xlabel('Hora del día', fontdict={'fontsize':14})\n",
    "plt.xlim(0,23)\n",
    "\n",
    "plt.figure(figsize=(10,6))\n",
    "sns.histplot(data = data_copia[data_copia['isFraud'] == 1], x='hora', bins=23, kde=True, color='red')\n",
    "plt.title('Distribución de las transacciónes fraudulentas por hora',fontdict={'fontsize':18})\n",
    "plt.xlabel('Hora del día', fontdict={'fontsize':14})\n",
    "plt.xlim(0,23)"
   ]
  },
  {
   "cell_type": "markdown",
   "id": "14d29eb6",
   "metadata": {},
   "source": [
    "# Regresión logística (Logit)"
   ]
  },
  {
   "cell_type": "markdown",
   "id": "9b45b473",
   "metadata": {},
   "source": [
    "Dado que la variable objetivo que quiero predecir, 'isFraud', es una variable binaria, un método adecuado para realizarlo es la\n",
    "regresión logística. Este es un tipo de modelo lineal generalizado que usa la función logit."
   ]
  },
  {
   "cell_type": "code",
   "execution_count": 45,
   "id": "d403b812",
   "metadata": {},
   "outputs": [],
   "source": [
    "from sklearn.model_selection import train_test_split"
   ]
  },
  {
   "cell_type": "code",
   "execution_count": 46,
   "id": "de7ef979",
   "metadata": {},
   "outputs": [],
   "source": [
    "from sklearn.linear_model import LogisticRegression"
   ]
  },
  {
   "cell_type": "code",
   "execution_count": 47,
   "id": "a5831fb6",
   "metadata": {},
   "outputs": [
    {
     "data": {
      "text/html": [
       "<div>\n",
       "<style scoped>\n",
       "    .dataframe tbody tr th:only-of-type {\n",
       "        vertical-align: middle;\n",
       "    }\n",
       "\n",
       "    .dataframe tbody tr th {\n",
       "        vertical-align: top;\n",
       "    }\n",
       "\n",
       "    .dataframe thead th {\n",
       "        text-align: right;\n",
       "    }\n",
       "</style>\n",
       "<table border=\"1\" class=\"dataframe\">\n",
       "  <thead>\n",
       "    <tr style=\"text-align: right;\">\n",
       "      <th></th>\n",
       "      <th>amount</th>\n",
       "      <th>oldbalanceOrg</th>\n",
       "      <th>newbalanceOrig</th>\n",
       "      <th>vaciamiento_cuenta</th>\n",
       "      <th>dummie_dest</th>\n",
       "      <th>num_type</th>\n",
       "    </tr>\n",
       "  </thead>\n",
       "  <tbody>\n",
       "    <tr>\n",
       "      <th>0</th>\n",
       "      <td>9839.64</td>\n",
       "      <td>170136.0</td>\n",
       "      <td>160296.36</td>\n",
       "      <td>0</td>\n",
       "      <td>0</td>\n",
       "      <td>0</td>\n",
       "    </tr>\n",
       "    <tr>\n",
       "      <th>1</th>\n",
       "      <td>1864.28</td>\n",
       "      <td>21249.0</td>\n",
       "      <td>19384.72</td>\n",
       "      <td>0</td>\n",
       "      <td>0</td>\n",
       "      <td>0</td>\n",
       "    </tr>\n",
       "    <tr>\n",
       "      <th>2</th>\n",
       "      <td>181.00</td>\n",
       "      <td>181.0</td>\n",
       "      <td>0.00</td>\n",
       "      <td>1</td>\n",
       "      <td>1</td>\n",
       "      <td>1</td>\n",
       "    </tr>\n",
       "    <tr>\n",
       "      <th>3</th>\n",
       "      <td>181.00</td>\n",
       "      <td>181.0</td>\n",
       "      <td>0.00</td>\n",
       "      <td>1</td>\n",
       "      <td>1</td>\n",
       "      <td>2</td>\n",
       "    </tr>\n",
       "    <tr>\n",
       "      <th>4</th>\n",
       "      <td>11668.14</td>\n",
       "      <td>41554.0</td>\n",
       "      <td>29885.86</td>\n",
       "      <td>0</td>\n",
       "      <td>0</td>\n",
       "      <td>0</td>\n",
       "    </tr>\n",
       "  </tbody>\n",
       "</table>\n",
       "</div>"
      ],
      "text/plain": [
       "     amount  oldbalanceOrg  newbalanceOrig  vaciamiento_cuenta  dummie_dest  \\\n",
       "0   9839.64       170136.0       160296.36                   0            0   \n",
       "1   1864.28        21249.0        19384.72                   0            0   \n",
       "2    181.00          181.0            0.00                   1            1   \n",
       "3    181.00          181.0            0.00                   1            1   \n",
       "4  11668.14        41554.0        29885.86                   0            0   \n",
       "\n",
       "   num_type  \n",
       "0         0  \n",
       "1         0  \n",
       "2         1  \n",
       "3         2  \n",
       "4         0  "
      ]
     },
     "execution_count": 47,
     "metadata": {},
     "output_type": "execute_result"
    }
   ],
   "source": [
    "X = data[['amount', 'oldbalanceOrg', 'newbalanceOrig', 'vaciamiento_cuenta', 'dummie_dest', 'num_type']]\n",
    "y = data.isFraud\n",
    "X.head()"
   ]
  },
  {
   "cell_type": "code",
   "execution_count": 48,
   "id": "be65e340",
   "metadata": {},
   "outputs": [],
   "source": [
    "X_train, X_test, y_train, y_test = train_test_split(X, y, random_state=0)"
   ]
  },
  {
   "cell_type": "code",
   "execution_count": 49,
   "id": "f01e7851",
   "metadata": {},
   "outputs": [],
   "source": [
    "algoritmo = LogisticRegression()"
   ]
  },
  {
   "cell_type": "code",
   "execution_count": 50,
   "id": "90137649",
   "metadata": {},
   "outputs": [],
   "source": [
    "clf = algoritmo.fit(X_train, y_train)"
   ]
  },
  {
   "cell_type": "code",
   "execution_count": 51,
   "id": "27aa0445",
   "metadata": {},
   "outputs": [
    {
     "data": {
      "text/plain": [
       "0.9994761591922824"
      ]
     },
     "execution_count": 51,
     "metadata": {},
     "output_type": "execute_result"
    }
   ],
   "source": [
    "y_pred = algoritmo.predict(X_test)\n",
    "algoritmo.score(X, y)"
   ]
  },
  {
   "cell_type": "markdown",
   "id": "55641401",
   "metadata": {},
   "source": [
    "Matríz de confusión"
   ]
  },
  {
   "cell_type": "code",
   "execution_count": 52,
   "id": "f7766469",
   "metadata": {},
   "outputs": [],
   "source": [
    "from sklearn.metrics import confusion_matrix"
   ]
  },
  {
   "cell_type": "code",
   "execution_count": 53,
   "id": "f2c24448",
   "metadata": {},
   "outputs": [],
   "source": [
    "matriz = confusion_matrix(y_test, y_pred)"
   ]
  },
  {
   "cell_type": "code",
   "execution_count": 54,
   "id": "1bb0210d",
   "metadata": {},
   "outputs": [
    {
     "name": "stdout",
     "output_type": "stream",
     "text": [
      "matriz de confusión:\n",
      "[[1587826     802]\n",
      " [     54    1973]]\n",
      "El número de verdaderos negativos es de 1587826\n",
      "El número de falsos positivos es de 802\n",
      "El número de falsos negativos es de 54\n",
      "El número de verdaderos positivos es de 1973\n"
     ]
    }
   ],
   "source": [
    "print('matriz de confusión:')\n",
    "print(matriz)\n",
    "print('El número de verdaderos negativos es de 1587826')\n",
    "print('El número de falsos positivos es de 802')\n",
    "print('El número de falsos negativos es de 54')\n",
    "print('El número de verdaderos positivos es de 1973')"
   ]
  },
  {
   "cell_type": "markdown",
   "id": "0b6a4ec5",
   "metadata": {},
   "source": [
    "Presición del algoritmo"
   ]
  },
  {
   "cell_type": "code",
   "execution_count": 55,
   "id": "07735296",
   "metadata": {},
   "outputs": [],
   "source": [
    "from sklearn.metrics import precision_score"
   ]
  },
  {
   "cell_type": "code",
   "execution_count": 56,
   "id": "9db73ae4",
   "metadata": {},
   "outputs": [
    {
     "name": "stdout",
     "output_type": "stream",
     "text": [
      "0.710990990990991\n"
     ]
    }
   ],
   "source": [
    "precisión = precision_score(y_test, y_pred)\n",
    "print(precisión)"
   ]
  },
  {
   "cell_type": "markdown",
   "id": "9254a67d",
   "metadata": {},
   "source": [
    "Exactitud"
   ]
  },
  {
   "cell_type": "code",
   "execution_count": 57,
   "id": "a21ff990",
   "metadata": {},
   "outputs": [],
   "source": [
    "from sklearn.metrics import accuracy_score"
   ]
  },
  {
   "cell_type": "code",
   "execution_count": 58,
   "id": "a0aac2fd",
   "metadata": {},
   "outputs": [
    {
     "data": {
      "text/plain": [
       "0.9994618569080033"
      ]
     },
     "execution_count": 58,
     "metadata": {},
     "output_type": "execute_result"
    }
   ],
   "source": [
    "exactitud = accuracy_score(y_test, y_pred)\n",
    "exactitud"
   ]
  },
  {
   "cell_type": "markdown",
   "id": "81196dc2",
   "metadata": {},
   "source": [
    "Sensibilidad."
   ]
  },
  {
   "cell_type": "code",
   "execution_count": 59,
   "id": "79b690b2",
   "metadata": {},
   "outputs": [],
   "source": [
    "from sklearn.metrics import recall_score"
   ]
  },
  {
   "cell_type": "code",
   "execution_count": 60,
   "id": "6cfaf23c",
   "metadata": {},
   "outputs": [
    {
     "name": "stdout",
     "output_type": "stream",
     "text": [
      "0.9733596447952639\n"
     ]
    }
   ],
   "source": [
    "sensibilidad = recall_score(y_test, y_pred)\n",
    "print(sensibilidad)"
   ]
  },
  {
   "cell_type": "markdown",
   "id": "5df57161",
   "metadata": {},
   "source": [
    "Puntaje f1"
   ]
  },
  {
   "cell_type": "code",
   "execution_count": 61,
   "id": "fca27026",
   "metadata": {},
   "outputs": [],
   "source": [
    "from sklearn.metrics import f1_score"
   ]
  },
  {
   "cell_type": "code",
   "execution_count": 62,
   "id": "1720da7d",
   "metadata": {},
   "outputs": [
    {
     "name": "stdout",
     "output_type": "stream",
     "text": [
      "0.8217409412744688\n"
     ]
    }
   ],
   "source": [
    "puntajef1 = f1_score(y_test, y_pred)\n",
    "print(puntajef1)"
   ]
  }
 ],
 "metadata": {
  "kernelspec": {
   "display_name": "Python 3 (ipykernel)",
   "language": "python",
   "name": "python3"
  },
  "language_info": {
   "codemirror_mode": {
    "name": "ipython",
    "version": 3
   },
   "file_extension": ".py",
   "mimetype": "text/x-python",
   "name": "python",
   "nbconvert_exporter": "python",
   "pygments_lexer": "ipython3",
   "version": "3.9.7"
  }
 },
 "nbformat": 4,
 "nbformat_minor": 5
}
